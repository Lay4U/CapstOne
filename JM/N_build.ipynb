{
 "cells": [
  {
   "cell_type": "code",
   "execution_count": 1,
   "metadata": {},
   "outputs": [],
   "source": [
    "import pandas as pd\n",
    "import numpy as np\n",
    "import re\n",
    "import requests\n",
    "from bs4 import BeautifulSoup"
   ]
  },
  {
   "cell_type": "code",
   "execution_count": 2,
   "metadata": {},
   "outputs": [
    {
     "ename": "ModuleNotFoundError",
     "evalue": "No module named 'selenium'",
     "output_type": "error",
     "traceback": [
      "\u001b[1;31m---------------------------------------------------------------------------\u001b[0m",
      "\u001b[1;31mModuleNotFoundError\u001b[0m                       Traceback (most recent call last)",
      "\u001b[1;32m<ipython-input-2-97103c9c3889>\u001b[0m in \u001b[0;36m<module>\u001b[1;34m\u001b[0m\n\u001b[1;32m----> 1\u001b[1;33m \u001b[1;32mfrom\u001b[0m \u001b[0mselenium\u001b[0m \u001b[1;32mimport\u001b[0m \u001b[0mwebdriver\u001b[0m\u001b[1;33m\u001b[0m\u001b[1;33m\u001b[0m\u001b[0m\n\u001b[0m\u001b[0;32m      2\u001b[0m \u001b[1;33m\u001b[0m\u001b[0m\n\u001b[0;32m      3\u001b[0m \u001b[0mpath\u001b[0m\u001b[1;33m=\u001b[0m\u001b[1;34m\"C:\\\\Users\\\\wkdwj\\\\Downloads\\\\chromedriver_win32\\\\chromedriver\"\u001b[0m\u001b[1;33m\u001b[0m\u001b[1;33m\u001b[0m\u001b[0m\n\u001b[0;32m      4\u001b[0m \u001b[1;33m\u001b[0m\u001b[0m\n",
      "\u001b[1;31mModuleNotFoundError\u001b[0m: No module named 'selenium'"
     ]
    }
   ],
   "source": [
    "from selenium import webdriver\n",
    " \n",
    "path=\"C:\\\\Users\\\\wkdwj\\\\Downloads\\\\chromedriver_win32\\\\chromedriver\"\n",
    " \n"
   ]
  },
  {
   "cell_type": "code",
   "execution_count": null,
   "metadata": {},
   "outputs": [],
   "source": [
    "'''문제!!! 실제 출구의 수와 웹에 나온 출구의 수가 맞지 않는 부분이 있습니다! \n",
    "실제 출구수*(빌딩 수/출구 수)로 가중치를 줄지 생각중입니다.. \n",
    "'''"
   ]
  },
  {
   "cell_type": "code",
   "execution_count": null,
   "metadata": {},
   "outputs": [],
   "source": [
    "#데이터 역명 불러오기\n",
    "s=pd.read_csv('StationName.csv')\n",
    "del s['Unnamed: 1']\n",
    "s=s.dropna()"
   ]
  },
  {
   "cell_type": "code",
   "execution_count": null,
   "metadata": {},
   "outputs": [],
   "source": [
    "s=s['name']"
   ]
  },
  {
   "cell_type": "code",
   "execution_count": null,
   "metadata": {},
   "outputs": [],
   "source": [
    "s=list(s)\n"
   ]
  },
  {
   "cell_type": "code",
   "execution_count": null,
   "metadata": {},
   "outputs": [],
   "source": [
    "#한글만 추출하여 역명 전처리\n",
    "'''문제!!! 역명에 숫자 있는 부분까지 처리되었습니다.. 수정하겠습니다..'''\n",
    "\n",
    "for i in range(len(s)):\n",
    "    parse = re.sub('[^가-힣]','', s[i])\n",
    "    s[i]=parse"
   ]
  },
  {
   "cell_type": "code",
   "execution_count": null,
   "metadata": {},
   "outputs": [],
   "source": [
    "s"
   ]
  },
  {
   "cell_type": "code",
   "execution_count": null,
   "metadata": {},
   "outputs": [],
   "source": [
    "#예시로 서울역 정보 끌어오기\n",
    "url=\"http://swopenapi.seoul.go.kr/api/subway/444b484e466b6d723131324854716c4b/xml/gateInfo/0/5/서울\"\n",
    "result=requests.get(url)\n",
    "bs_obj=BeautifulSoup(result.content,\"html.parser\")\n",
    "print(bs_obj)\n"
   ]
  },
  {
   "cell_type": "code",
   "execution_count": null,
   "metadata": {},
   "outputs": [],
   "source": [
    "#출구근처 주변 빌딩 정보만 끌어오기\n",
    "bd=bs_obj.find_all(\"cfrbuild\")\n",
    "bd"
   ]
  },
  {
   "cell_type": "code",
   "execution_count": null,
   "metadata": {},
   "outputs": [],
   "source": [
    "# ,로 쪼개서 개수\n",
    "bd=str(bd)\n",
    "bd.split(\",\")\n",
    "len(bd.split(\",\"))"
   ]
  },
  {
   "cell_type": "code",
   "execution_count": null,
   "metadata": {},
   "outputs": [],
   "source": [
    "#for i in range(len(s)):\n",
    "'''url 주소에 있는 역명이랑 dataset에서 끌어온 역명이랑 다른 부분은 1로 오류 나있어서 직접 찾거나 코드 수정하고 csv 파일로 만들겠습니다'''\n",
    "\n",
    "for i in range(len(s)):\n",
    "    url=\"http://swopenapi.seoul.go.kr/api/subway/444b484e466b6d723131324854716c4b/xml/gateInfo/0/5/\"+s[i]\n",
    "    result=requests.get(url)\n",
    "    bs_obj=BeautifulSoup(result.content,\"html.parser\")\n",
    "    bd=bs_obj.find_all(\"cfrbuild\")\n",
    "    bd=str(bd)\n",
    "    bd.split(\",\")\n",
    "    num=len(bd.split(\",\"))\n",
    "    print(s[i],num)\n"
   ]
  },
  {
   "cell_type": "code",
   "execution_count": null,
   "metadata": {},
   "outputs": [],
   "source": []
  },
  {
   "cell_type": "code",
   "execution_count": null,
   "metadata": {},
   "outputs": [],
   "source": []
  }
 ],
 "metadata": {
  "kernelspec": {
   "display_name": "Python 3",
   "language": "python",
   "name": "python3"
  },
  "language_info": {
   "codemirror_mode": {
    "name": "ipython",
    "version": 3
   },
   "file_extension": ".py",
   "mimetype": "text/x-python",
   "name": "python",
   "nbconvert_exporter": "python",
   "pygments_lexer": "ipython3",
   "version": "3.7.3"
  }
 },
 "nbformat": 4,
 "nbformat_minor": 2
}
