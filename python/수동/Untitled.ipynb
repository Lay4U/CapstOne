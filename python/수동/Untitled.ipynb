{
 "cells": [
  {
   "cell_type": "code",
   "execution_count": 1,
   "metadata": {},
   "outputs": [
    {
     "data": {
      "text/plain": [
       "['.ipynb_checkpoints',\n",
       " 'Untitled.ipynb',\n",
       " '가락시장.csv',\n",
       " '건대입구.csv',\n",
       " '경찰병원.csv',\n",
       " '고속터미널.csv',\n",
       " '공덕.csv',\n",
       " '교대.csv',\n",
       " '군자.csv',\n",
       " '굴포천.csv',\n",
       " '까치울.csv',\n",
       " '노원.csv',\n",
       " '대림.csv',\n",
       " '동대문.csv',\n",
       " '동대문역사문화공원.csv',\n",
       " '동묘앞.csv',\n",
       " '마곡.csv',\n",
       " '부천시청.csv',\n",
       " '부천종합운동장.csv',\n",
       " '부평구청.csv',\n",
       " '불광.csv',\n",
       " '사당.csv',\n",
       " '삼각지.csv',\n",
       " '삼산체육관.csv',\n",
       " '상동.csv',\n",
       " '서울역.csv',\n",
       " '시청.csv',\n",
       " '신당.csv',\n",
       " '신설동.csv',\n",
       " '신중동.csv',\n",
       " '약수.csv',\n",
       " '연신내.csv',\n",
       " '영등포구청.csv',\n",
       " '오금.csv',\n",
       " '왕십리.csv',\n",
       " '을지로3가.csv',\n",
       " '을지로4가.csv',\n",
       " '잠실.csv',\n",
       " '종로3가.csv',\n",
       " '천호.csv',\n",
       " '청구.csv',\n",
       " '총신대입구(이수).csv',\n",
       " '춘의.csv',\n",
       " '충정로.csv',\n",
       " '태릉입구.csv',\n",
       " '합정.csv']"
      ]
     },
     "execution_count": 1,
     "metadata": {},
     "output_type": "execute_result"
    }
   ],
   "source": [
    "import os.path\n",
    "import pandas as pd\n",
    "import matplotlib.pyplot as plt\n",
    "\n",
    "folder = os.getcwd()\n",
    "\n",
    "fileList = os.listdir(folder)\n",
    "\n",
    "fileList"
   ]
  },
  {
   "cell_type": "code",
   "execution_count": 3,
   "metadata": {},
   "outputs": [
    {
     "data": {
      "text/plain": [
       "['가락시장.csv',\n",
       " '건대입구.csv',\n",
       " '경찰병원.csv',\n",
       " '고속터미널.csv',\n",
       " '공덕.csv',\n",
       " '교대.csv',\n",
       " '군자.csv',\n",
       " '굴포천.csv',\n",
       " '까치울.csv',\n",
       " '노원.csv',\n",
       " '대림.csv',\n",
       " '동대문.csv',\n",
       " '동대문역사문화공원.csv',\n",
       " '동묘앞.csv',\n",
       " '마곡.csv',\n",
       " '부천시청.csv',\n",
       " '부천종합운동장.csv',\n",
       " '부평구청.csv',\n",
       " '불광.csv',\n",
       " '사당.csv',\n",
       " '삼각지.csv',\n",
       " '삼산체육관.csv',\n",
       " '상동.csv',\n",
       " '서울역.csv',\n",
       " '시청.csv',\n",
       " '신당.csv',\n",
       " '신설동.csv',\n",
       " '신중동.csv',\n",
       " '약수.csv',\n",
       " '연신내.csv',\n",
       " '영등포구청.csv',\n",
       " '오금.csv',\n",
       " '왕십리.csv',\n",
       " '을지로3가.csv',\n",
       " '을지로4가.csv',\n",
       " '잠실.csv',\n",
       " '종로3가.csv',\n",
       " '천호.csv',\n",
       " '청구.csv',\n",
       " '총신대입구(이수).csv',\n",
       " '춘의.csv',\n",
       " '충정로.csv',\n",
       " '태릉입구.csv',\n",
       " '합정.csv']"
      ]
     },
     "execution_count": 3,
     "metadata": {},
     "output_type": "execute_result"
    }
   ],
   "source": [
    "del fileList[0]\n",
    "fileList"
   ]
  },
  {
   "cell_type": "code",
   "execution_count": 5,
   "metadata": {},
   "outputs": [
    {
     "name": "stdout",
     "output_type": "stream",
     "text": [
      "가락시장.csv 0\n",
      "건대입구.csv 1\n",
      "경찰병원.csv 2\n",
      "고속터미널.csv 3\n",
      "공덕.csv 4\n",
      "교대.csv 5\n",
      "군자.csv 6\n",
      "굴포천.csv 7\n",
      "까치울.csv 8\n",
      "노원.csv 9\n",
      "대림.csv 10\n",
      "동대문.csv 11\n",
      "동대문역사문화공원.csv 12\n",
      "동묘앞.csv 13\n",
      "마곡.csv 14\n",
      "부천시청.csv 15\n",
      "부천종합운동장.csv 16\n",
      "부평구청.csv 17\n",
      "불광.csv 18\n",
      "사당.csv 19\n",
      "삼각지.csv 20\n",
      "삼산체육관.csv 21\n",
      "상동.csv 22\n",
      "서울역.csv 23\n",
      "시청.csv 24\n",
      "신당.csv 25\n",
      "신설동.csv 26\n",
      "신중동.csv 27\n",
      "약수.csv 28\n",
      "연신내.csv 29\n",
      "영등포구청.csv 30\n",
      "오금.csv 31\n",
      "왕십리.csv 32\n",
      "을지로3가.csv 33\n",
      "을지로4가.csv 34\n",
      "잠실.csv 35\n",
      "종로3가.csv 36\n",
      "천호.csv 37\n",
      "청구.csv 38\n",
      "총신대입구(이수).csv 39\n",
      "춘의.csv 40\n",
      "충정로.csv 41\n",
      "태릉입구.csv 42\n",
      "합정.csv 43\n"
     ]
    }
   ],
   "source": [
    "af = []\n",
    "a = 0\n",
    "for i in fileList:\n",
    "    print(i, a)\n",
    "    a = a + 1\n",
    "    df = pd.read_csv(i, encoding='utf-8', index_col=None, header=None)\n",
    "    af.append(df)"
   ]
  },
  {
   "cell_type": "code",
   "execution_count": 6,
   "metadata": {},
   "outputs": [
    {
     "name": "stdout",
     "output_type": "stream",
     "text": [
      "가락시장.csv  = \t\t 14010\n",
      "건대입구.csv  = \t\t 15401\n",
      "경찰병원.csv  = \t\t 6040\n",
      "고속터미널.csv  = \t\t 15684\n",
      "공덕.csv  = \t\t 15371\n",
      "교대.csv  = \t\t 15390\n",
      "군자.csv  = \t\t 15684\n",
      "굴포천.csv  = \t\t 4310\n",
      "까치울.csv  = \t\t 3940\n",
      "노원.csv  = \t\t 15684\n",
      "대림.csv  = \t\t 15684\n",
      "동대문.csv  = \t\t 15684\n",
      "동대문역사문화공원.csv  = \t\t 23536\n",
      "동묘앞.csv  = \t\t 15684\n",
      "마곡.csv  = \t\t 7490\n",
      "부천시청.csv  = \t\t 4310\n",
      "부천종합운동장.csv  = \t\t 4310\n",
      "부평구청.csv  = \t\t 3940\n",
      "불광.csv  = \t\t 15400\n",
      "사당.csv  = \t\t 15390\n",
      "삼각지.csv  = \t\t 15684\n",
      "삼산체육관.csv  = \t\t 4310\n",
      "상동.csv  = \t\t 4312\n",
      "서울역.csv  = \t\t 15684\n",
      "시청.csv  = \t\t 15684\n",
      "신당.csv  = \t\t 15684\n",
      "신설동.csv  = \t\t 15684\n",
      "신중동.csv  = \t\t 4312\n",
      "약수.csv  = \t\t 15684\n",
      "연신내.csv  = \t\t 7836\n",
      "영등포구청.csv  = \t\t 15684\n",
      "오금.csv  = \t\t 14190\n",
      "왕십리.csv  = \t\t 15684\n",
      "을지로3가.csv  = \t\t 15684\n",
      "을지로4가.csv  = \t\t 15684\n",
      "잠실.csv  = \t\t 15684\n",
      "종로3가.csv  = \t\t 23536\n",
      "천호.csv  = \t\t 15684\n",
      "청구.csv  = \t\t 15684\n",
      "총신대입구(이수).csv  = \t\t 15684\n",
      "춘의.csv  = \t\t 4310\n",
      "충정로.csv  = \t\t 15684\n",
      "태릉입구.csv  = \t\t 15684\n",
      "합정.csv  = \t\t 15684\n",
      "44\n"
     ]
    }
   ],
   "source": [
    "a=0\n",
    "for (i, j) in list(zip(af, fileList)):\n",
    "    print(j, ' = \\t\\t', len(i))\n",
    "    a=a+1\n",
    "print(a)"
   ]
  },
  {
   "cell_type": "code",
   "execution_count": 4,
   "metadata": {},
   "outputs": [],
   "source": [
    "for i in fileList:\n",
    "    df = pd.read_csv(i, header=None)\n",
    "    df.to_csv(i, encoding='utf-8', index=False, header=False)"
   ]
  },
  {
   "cell_type": "code",
   "execution_count": null,
   "metadata": {},
   "outputs": [],
   "source": []
  }
 ],
 "metadata": {
  "kernelspec": {
   "display_name": "me",
   "language": "python",
   "name": "me"
  },
  "language_info": {
   "codemirror_mode": {
    "name": "ipython",
    "version": 3
   },
   "file_extension": ".py",
   "mimetype": "text/x-python",
   "name": "python",
   "nbconvert_exporter": "python",
   "pygments_lexer": "ipython3",
   "version": "3.6.7"
  }
 },
 "nbformat": 4,
 "nbformat_minor": 2
}
