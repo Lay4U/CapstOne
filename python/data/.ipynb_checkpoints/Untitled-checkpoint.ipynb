{
 "cells": [
  {
   "cell_type": "code",
   "execution_count": 3,
   "metadata": {},
   "outputs": [],
   "source": [
    "import xlrd\n",
    "import unicodecsv\n",
    "\n",
    "def xls2csv (xls_filename, csv_filename):\n",
    "    # Converts an Excel file to a CSV file.\n",
    "    # If the excel file has multiple worksheets, only the first worksheet is converted.\n",
    "    # Uses unicodecsv, so it will handle Unicode characters.\n",
    "    # Uses a recent version of xlrd, so it should handle old .xls and new .xlsx equally well.\n",
    "\n",
    "    wb = xlrd.open_workbook(xls_filename)\n",
    "    sh = wb.sheet_by_index(0)\n",
    "\n",
    "    fh = open(csv_filename,\"wb\")\n",
    "    csv_out = unicodecsv.writer(fh, encoding='utf-8')\n",
    "\n",
    "    for row_number in xrange (sh.nrows):\n",
    "        csv_out.writerow(sh.row_values(row_number))\n",
    "\n",
    "    fh.close()"
   ]
  },
  {
   "cell_type": "code",
   "execution_count": 4,
   "metadata": {},
   "outputs": [],
   "source": [
    "import pandas"
   ]
  },
  {
   "cell_type": "code",
   "execution_count": 5,
   "metadata": {},
   "outputs": [
    {
     "data": {
      "text/plain": [
       "<function pandas.core.arrays.array_.array(data, dtype=None, copy=True)>"
      ]
     },
     "execution_count": 5,
     "metadata": {},
     "output_type": "execute_result"
    }
   ],
   "source": [
    "pandas.array"
   ]
  },
  {
   "cell_type": "code",
   "execution_count": null,
   "metadata": {},
   "outputs": [],
   "source": []
  }
 ],
 "metadata": {
  "kernelspec": {
   "display_name": "me",
   "language": "python",
   "name": "me"
  },
  "language_info": {
   "name": ""
  }
 },
 "nbformat": 4,
 "nbformat_minor": 2
}
