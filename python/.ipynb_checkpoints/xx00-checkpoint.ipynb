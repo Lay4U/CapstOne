{
 "cells": [
  {
   "cell_type": "code",
   "execution_count": null,
   "metadata": {
    "ExecuteTime": {
     "end_time": "2019-04-10T00:58:21.663591Z",
     "start_time": "2019-04-10T00:57:52.097158Z"
    }
   },
   "outputs": [],
   "source": [
    "import pandas as pd\n",
    "import numpy as np\n",
    "from keras.models import Sequential\n",
    "from keras.layers import Dense, LSTM, Dropout\n",
    "from keras.layers.core import Dense, Activation, Dropout\n",
    "from sklearn.preprocessing import MinMaxScaler\n",
    "import matplotlib.pyplot as plt\n",
    "from sklearn.metrics import mean_squared_error\n",
    "\n",
    "import winsound"
   ]
  },
  {
   "cell_type": "code",
   "execution_count": null,
   "metadata": {
    "ExecuteTime": {
     "end_time": "2019-04-10T00:58:37.306592Z",
     "start_time": "2019-04-10T00:58:21.667567Z"
    }
   },
   "outputs": [],
   "source": [
    "df = pd.read_csv('dataset.csv')\n",
    "del df['Unnamed: 0']"
   ]
  },
  {
   "cell_type": "code",
   "execution_count": null,
   "metadata": {
    "ExecuteTime": {
     "end_time": "2019-04-10T00:58:37.367478Z",
     "start_time": "2019-04-10T00:58:37.309088Z"
    }
   },
   "outputs": [],
   "source": [
    "df"
   ]
  },
  {
   "cell_type": "code",
   "execution_count": null,
   "metadata": {
    "ExecuteTime": {
     "end_time": "2019-04-10T00:58:37.374965Z",
     "start_time": "2019-04-10T00:58:37.369475Z"
    }
   },
   "outputs": [],
   "source": [
    "df.columns"
   ]
  },
  {
   "cell_type": "code",
   "execution_count": null,
   "metadata": {
    "ExecuteTime": {
     "end_time": "2019-04-10T00:58:37.391934Z",
     "start_time": "2019-04-10T00:58:37.377461Z"
    }
   },
   "outputs": [],
   "source": [
    "df['name']"
   ]
  },
  {
   "cell_type": "code",
   "execution_count": null,
   "metadata": {
    "ExecuteTime": {
     "end_time": "2019-04-10T00:58:37.405907Z",
     "start_time": "2019-04-10T00:58:37.395427Z"
    }
   },
   "outputs": [],
   "source": [
    "s = df['name']\n",
    "s"
   ]
  },
  {
   "cell_type": "code",
   "execution_count": null,
   "metadata": {
    "ExecuteTime": {
     "end_time": "2019-04-10T00:58:39.187596Z",
     "start_time": "2019-04-10T00:58:37.407405Z"
    }
   },
   "outputs": [],
   "source": [
    "s = list(set(s))\n",
    "s"
   ]
  },
  {
   "cell_type": "code",
   "execution_count": null,
   "metadata": {
    "ExecuteTime": {
     "end_time": "2019-04-10T00:58:39.201571Z",
     "start_time": "2019-04-10T00:58:39.189093Z"
    }
   },
   "outputs": [],
   "source": [
    "len(s)"
   ]
  },
  {
   "cell_type": "code",
   "execution_count": null,
   "metadata": {
    "ExecuteTime": {
     "end_time": "2019-04-10T00:58:39.218538Z",
     "start_time": "2019-04-10T00:58:39.203067Z"
    }
   },
   "outputs": [],
   "source": [
    "def create_dataset(signal_data, look_back=1):\n",
    "    dataX, dataY = [], []\n",
    "    for i in range(len(signal_data) - look_back):\n",
    "        dataX.append(signal_data[i:(i + look_back), 0])\n",
    "        dataY.append(signal_data[i + look_back, 0])\n",
    "    return np.array(dataX), np.array(dataY)\n",
    "\n",
    "look_back = 7"
   ]
  },
  {
   "cell_type": "code",
   "execution_count": null,
   "metadata": {
    "ExecuteTime": {
     "end_time": "2019-04-10T00:58:39.234511Z",
     "start_time": "2019-04-10T00:58:39.220535Z"
    }
   },
   "outputs": [],
   "source": [
    "s[1]"
   ]
  },
  {
   "cell_type": "code",
   "execution_count": null,
   "metadata": {
    "ExecuteTime": {
     "end_time": "2019-04-10T00:58:39.244989Z",
     "start_time": "2019-04-10T00:58:39.236505Z"
    }
   },
   "outputs": [],
   "source": [
    "# for i in range(len(s)):\n",
    "#     print(s[i] ,':', len(df[df['name']==s[i]]))"
   ]
  },
  {
   "cell_type": "code",
   "execution_count": null,
   "metadata": {
    "ExecuteTime": {
     "end_time": "2019-04-10T00:58:39.263954Z",
     "start_time": "2019-04-10T00:58:39.251477Z"
    }
   },
   "outputs": [],
   "source": [
    "20226480 - 19220360 # 71220 * 284 - rows"
   ]
  },
  {
   "cell_type": "code",
   "execution_count": null,
   "metadata": {},
   "outputs": [],
   "source": [
    "data1 = df[df['name']=='강남']\n",
    "data1"
   ]
  },
  {
   "cell_type": "code",
   "execution_count": 50,
   "metadata": {
    "ExecuteTime": {
     "end_time": "2019-04-10T00:58:40.281063Z",
     "start_time": "2019-04-10T00:58:40.272579Z"
    }
   },
   "outputs": [
    {
     "data": {
      "text/plain": [
       "Series([], Name: name, dtype: object)"
      ]
     },
     "execution_count": 50,
     "metadata": {},
     "output_type": "execute_result"
    }
   ],
   "source": [
    "name = data1.iloc[:1,2,]\n",
    "name"
   ]
  },
  {
   "cell_type": "code",
   "execution_count": 51,
   "metadata": {
    "ExecuteTime": {
     "end_time": "2019-04-10T00:58:40.325981Z",
     "start_time": "2019-04-10T00:58:40.285555Z"
    }
   },
   "outputs": [],
   "source": [
    "name = name.to_string(index=False)"
   ]
  },
  {
   "cell_type": "code",
   "execution_count": 52,
   "metadata": {},
   "outputs": [
    {
     "data": {
      "text/plain": [
       "'Series([], )'"
      ]
     },
     "execution_count": 52,
     "metadata": {},
     "output_type": "execute_result"
    }
   ],
   "source": [
    "name"
   ]
  },
  {
   "cell_type": "code",
   "execution_count": 53,
   "metadata": {},
   "outputs": [
    {
     "data": {
      "text/plain": [
       "<Figure size 432x288 with 0 Axes>"
      ]
     },
     "metadata": {},
     "output_type": "display_data"
    }
   ],
   "source": [
    "plt.savefig(name)"
   ]
  },
  {
   "cell_type": "code",
   "execution_count": 54,
   "metadata": {
    "ExecuteTime": {
     "end_time": "2019-04-10T00:58:40.337957Z",
     "start_time": "2019-04-10T00:58:40.328476Z"
    }
   },
   "outputs": [
    {
     "data": {
      "text/plain": [
       "0"
      ]
     },
     "execution_count": 54,
     "metadata": {},
     "output_type": "execute_result"
    }
   ],
   "source": [
    "len(data1)"
   ]
  },
  {
   "cell_type": "code",
   "execution_count": 55,
   "metadata": {
    "ExecuteTime": {
     "end_time": "2019-04-10T00:58:40.355924Z",
     "start_time": "2019-04-10T00:58:40.339455Z"
    }
   },
   "outputs": [
    {
     "data": {
      "text/plain": [
       "(0, 5)"
      ]
     },
     "execution_count": 55,
     "metadata": {},
     "output_type": "execute_result"
    }
   ],
   "source": [
    "data1.shape"
   ]
  },
  {
   "cell_type": "code",
   "execution_count": 57,
   "metadata": {
    "ExecuteTime": {
     "end_time": "2019-04-10T05:13:21.487828Z",
     "start_time": "2019-04-10T04:45:15.018295Z"
    }
   },
   "outputs": [
    {
     "name": "stdout",
     "output_type": "stream",
     "text": [
      "                date  number name div        a\n",
      "620       2008-01-01   222.0   강남  승차    945.0\n",
      "621       2008-01-01   222.0   강남  승차    314.0\n",
      "622       2008-01-01   222.0   강남  승차    -64.0\n",
      "623       2008-01-01   222.0   강남  승차   -205.0\n",
      "624       2008-01-01   222.0   강남  승차   -806.0\n",
      "625       2008-01-01   222.0   강남  승차   -405.0\n",
      "626       2008-01-01   222.0   강남  승차   -336.0\n",
      "627       2008-01-01   222.0   강남  승차   -474.0\n",
      "628       2008-01-01   222.0   강남  승차   -628.0\n",
      "629       2008-01-01   222.0   강남  승차   -584.0\n",
      "630       2008-01-01   222.0   강남  승차   -661.0\n",
      "631       2008-01-01   222.0   강남  승차   -751.0\n",
      "632       2008-01-01   222.0   강남  승차   -839.0\n",
      "633       2008-01-01   222.0   강남  승차   -723.0\n",
      "634       2008-01-01   222.0   강남  승차   -198.0\n",
      "635       2008-01-01   222.0   강남  승차    800.0\n",
      "636       2008-01-01   222.0   강남  승차   1650.0\n",
      "637       2008-01-01   222.0   강남  승차   1725.0\n",
      "638       2008-01-01   222.0   강남  승차    507.0\n",
      "639       2008-01-01   222.0   강남  승차    -58.0\n",
      "5860      2008-01-02   222.0   강남  승차   -126.0\n",
      "5861      2008-01-02   222.0   강남  승차  -2936.0\n",
      "5862      2008-01-02   222.0   강남  승차  -6503.0\n",
      "5863      2008-01-02   222.0   강남  승차 -16890.0\n",
      "5864      2008-01-02   222.0   강남  승차 -10895.0\n",
      "5865      2008-01-02   222.0   강남  승차  -3198.0\n",
      "5866      2008-01-02   222.0   강남  승차  -1487.0\n",
      "5867      2008-01-02   222.0   강남  승차     79.0\n",
      "5868      2008-01-02   222.0   강남  승차   -858.0\n",
      "5869      2008-01-02   222.0   강남  승차    364.0\n",
      "...              ...     ...  ...  ..      ...\n",
      "21217490  2018-12-30   222.0   강남  승차   -347.0\n",
      "21217491  2018-12-30   222.0   강남  승차   -780.0\n",
      "21217492  2018-12-30   222.0   강남  승차   -859.0\n",
      "21217493  2018-12-30   222.0   강남  승차   -608.0\n",
      "21217494  2018-12-30   222.0   강남  승차    189.0\n",
      "21217495  2018-12-30   222.0   강남  승차   1481.0\n",
      "21217496  2018-12-30   222.0   강남  승차   3059.0\n",
      "21217497  2018-12-30   222.0   강남  승차   4120.0\n",
      "21217498  2018-12-30   222.0   강남  승차   1836.0\n",
      "21217499  2018-12-30   222.0   강남  승차   -188.0\n",
      "21222980  2018-12-31   222.0   강남  승차     27.0\n",
      "21222981  2018-12-31   222.0   강남  승차   -916.0\n",
      "21222982  2018-12-31   222.0   강남  승차  -3810.0\n",
      "21222983  2018-12-31   222.0   강남  승차  -8948.0\n",
      "21222984  2018-12-31   222.0   강남  승차  -7713.0\n",
      "21222985  2018-12-31   222.0   강남  승차  -3585.0\n",
      "21222986  2018-12-31   222.0   강남  승차  -1945.0\n",
      "21222987  2018-12-31   222.0   강남  승차  -1267.0\n",
      "21222988  2018-12-31   222.0   강남  승차  -1524.0\n",
      "21222989  2018-12-31   222.0   강남  승차    -50.0\n",
      "21222990  2018-12-31   222.0   강남  승차   1138.0\n",
      "21222991  2018-12-31   222.0   강남  승차   2111.0\n",
      "21222992  2018-12-31   222.0   강남  승차   3164.0\n",
      "21222993  2018-12-31   222.0   강남  승차   4544.0\n",
      "21222994  2018-12-31   222.0   강남  승차   2526.0\n",
      "21222995  2018-12-31   222.0   강남  승차   2859.0\n",
      "21222996  2018-12-31   222.0   강남  승차   3620.0\n",
      "21222997  2018-12-31   222.0   강남  승차   3692.0\n",
      "21222998  2018-12-31   222.0   강남  승차   1239.0\n",
      "21222999  2018-12-31   222.0   강남  승차  -1845.0\n",
      "\n",
      "[78520 rows x 5 columns]\n",
      "_________________________________________________________________\n",
      "Layer (type)                 Output Shape              Param #   \n",
      "=================================================================\n",
      "lstm_18 (LSTM)               (None, None, 512)         1052672   \n",
      "_________________________________________________________________\n",
      "dropout_15 (Dropout)         (None, None, 512)         0         \n",
      "_________________________________________________________________\n",
      "lstm_19 (LSTM)               (None, 512)               2099200   \n",
      "_________________________________________________________________\n",
      "dropout_16 (Dropout)         (None, 512)               0         \n",
      "_________________________________________________________________\n",
      "dense_8 (Dense)              (None, 1)                 513       \n",
      "=================================================================\n",
      "Total params: 3,152,385\n",
      "Trainable params: 3,152,385\n",
      "Non-trainable params: 0\n",
      "_________________________________________________________________\n",
      "Epoch 1/10\n",
      "62809/62809 [==============================] - 52s 826us/step - loss: 0.0116 - acc: 3.1843e-05\n",
      "Epoch 2/10\n",
      "62809/62809 [==============================] - 29s 463us/step - loss: 0.0048 - acc: 3.1843e-05\n",
      "Epoch 3/10\n",
      "62809/62809 [==============================] - 27s 423us/step - loss: 0.0034 - acc: 3.1843e-05\n",
      "Epoch 4/10\n",
      "62809/62809 [==============================] - 26s 417us/step - loss: 0.0023 - acc: 3.1843e-05\n",
      "Epoch 5/10\n",
      "62809/62809 [==============================] - 27s 422us/step - loss: 0.0018 - acc: 3.1843e-05\n",
      "Epoch 6/10\n",
      "62809/62809 [==============================] - 27s 425us/step - loss: 0.0015 - acc: 3.1843e-05\n",
      "Epoch 7/10\n",
      "62809/62809 [==============================] - 26s 419us/step - loss: 0.0013 - acc: 3.1843e-05\n",
      "Epoch 8/10\n",
      "62809/62809 [==============================] - 26s 421us/step - loss: 0.0011 - acc: 3.1843e-05\n",
      "Epoch 9/10\n",
      "62809/62809 [==============================] - 27s 435us/step - loss: 0.0010 - acc: 3.1843e-05\n",
      "Epoch 10/10\n",
      "62809/62809 [==============================] - 27s 424us/step - loss: 9.6004e-04 - acc: 3.1843e-05\n",
      "0.00089256506\n"
     ]
    },
    {
     "data": {
      "text/plain": [
       "<Figure size 432x288 with 0 Axes>"
      ]
     },
     "metadata": {},
     "output_type": "display_data"
    }
   ],
   "source": [
    "data1 = df[df['name']=='강남']\n",
    "print(data1)\n",
    "data = data1['a']\n",
    "#     data = data.value\n",
    "data = data.values.astype('float32')\n",
    "data = data.reshape(len(data), 1)\n",
    "\n",
    "scaler = MinMaxScaler(feature_range=(0, 1))\n",
    "data = scaler.fit_transform(data)\n",
    "\n",
    "train_size = int(len(data) * 0.80)\n",
    "test_size = len(data) - train_size\n",
    "\n",
    "train = data[0:train_size]\n",
    "test = data[train_size:len(data)]\n",
    "x_train, y_train = create_dataset(train, look_back)\n",
    "x_test, y_test = create_dataset(test, look_back)\n",
    "\n",
    "x_train = np.reshape(x_train, (x_train.shape[0], x_train.shape[1], 1))\n",
    "x_test = np.reshape(x_test, (x_test.shape[0], x_test.shape[1], 1))\n",
    "# 모델 구성하기\n",
    "\n",
    "model = Sequential()\n",
    "model.add(LSTM(512, input_shape=(None, 1), return_sequences=True))\n",
    "model.add(Dropout(0.3))\n",
    "\n",
    "model.add(LSTM(512, input_shape=(None, 1)))\n",
    "model.add(Dropout(0.3))\n",
    "# model.add(LSTM(i, input_shape=(None, 1)))\n",
    "\n",
    "# model.add(Dense(i))\n",
    "# model.add(Dropout(0.3))\n",
    "# model.add(Dropout(0.3))\n",
    "# model.add(Dense(64))\n",
    "\n",
    "model.add(Dense(1))\n",
    "name = \"tt.jpg\"\n",
    "# 모델 학습과정 설정하기\n",
    "model.compile(loss='mean_squared_error', optimizer='rmsprop', metrics=['accuracy'])\n",
    "model.summary()\n",
    "hist = model.fit(x_train, y_train, epochs=10, batch_size=64)\n",
    "# from keras.models import load_model\n",
    "# model = load_model('trythis.h5')\n",
    "p = model.predict(x_test)\n",
    "\n",
    "plt.plot(y_test)\n",
    "plt.plot(p)\n",
    "plt.legend(['testY', 'p'], loc='upper right')\n",
    "plt.title(mean_squared_error(y_test, p))\n",
    "# plt.savefig(datetime.datetime.now())\n",
    "plt.savefig(name)\n",
    "plt.clf()\n",
    "print(mean_squared_error(y_test, p))"
   ]
  },
  {
   "cell_type": "code",
   "execution_count": null,
   "metadata": {},
   "outputs": [],
   "source": [
    "x_train.shape"
   ]
  },
  {
   "cell_type": "code",
   "execution_count": null,
   "metadata": {},
   "outputs": [],
   "source": [
    "# x_train = np.reshape(x_train, (len(x_train), 1, 1))"
   ]
  },
  {
   "cell_type": "code",
   "execution_count": null,
   "metadata": {},
   "outputs": [],
   "source": [
    "predictions = model.predict(x_train)"
   ]
  },
  {
   "cell_type": "code",
   "execution_count": null,
   "metadata": {},
   "outputs": [],
   "source": [
    "predictions.shape"
   ]
  },
  {
   "cell_type": "code",
   "execution_count": null,
   "metadata": {},
   "outputs": [],
   "source": [
    "future = []\n",
    "currentStep = predictions[:, -1: :]"
   ]
  },
  {
   "cell_type": "code",
   "execution_count": null,
   "metadata": {},
   "outputs": [],
   "source": [
    "for i in range(50):\n",
    "    currentStep = model.predict(currentStep)\n",
    "    future.append(currentStep)"
   ]
  },
  {
   "cell_type": "code",
   "execution_count": null,
   "metadata": {
    "ExecuteTime": {
     "end_time": "2019-04-10T05:28:22.326018Z",
     "start_time": "2019-04-10T05:28:22.188275Z"
    },
    "scrolled": true
   },
   "outputs": [],
   "source": [
    "# # Plot training & validation loss values\n",
    "# plt.plot(hist.history['loss'])\n",
    "# plt.title('Model loss')\n",
    "# plt.ylabel('Loss')\n",
    "# plt.xlabel('Epoch')\n",
    "# plt.legend(['Train', 'Test'], loc='upper left')\n",
    "# plt.show()"
   ]
  },
  {
   "cell_type": "code",
   "execution_count": null,
   "metadata": {
    "ExecuteTime": {
     "end_time": "2019-04-10T05:49:44.975765Z",
     "start_time": "2019-04-10T05:49:44.502682Z"
    }
   },
   "outputs": [],
   "source": [
    "plt.plot(y_test)\n",
    "plt.plot(p)\n",
    "plt.legend(['testY', 'prediction'], loc='best')\n",
    "plt.title('LSTM(512)+LSTM(1024)')\n",
    "plt.ylabel('embarked personnel')\n",
    "plt.xlabel('Time')"
   ]
  },
  {
   "cell_type": "code",
   "execution_count": null,
   "metadata": {
    "ExecuteTime": {
     "end_time": "2019-04-10T05:43:47.043498Z",
     "start_time": "2019-04-10T05:43:28.249850Z"
    }
   },
   "outputs": [],
   "source": [
    "trainPredict = model.predict(x_train)\n",
    "testPredict = model.predict(x_test)\n",
    "# invert predictions\n",
    "trainPredict = scaler.inverse_transform(trainPredict)\n",
    "trainY = scaler.inverse_transform([y_train])\n",
    "testPredict = scaler.inverse_transform(testPredict)\n",
    "testY = scaler.inverse_transform([y_test])\n",
    "\n",
    "# shift train predictions for plotting\n",
    "trainPredictPlot = np.empty_like(data)\n",
    "trainPredictPlot[:, :] = np.nan\n",
    "trainPredictPlot[look_back:len(trainPredict)+look_back, :] = trainPredict\n",
    "# shift test predictions for plotting\n",
    "testPredictPlot = np.empty_like(data)\n",
    "testPredictPlot[:, :] = np.nan\n",
    "testPredictPlot[len(trainPredict)+(look_back*2):len(data)+2, :] = testPredict\n",
    "# plot baseline and predictions\n",
    "plt.plot(scaler.inverse_transform(data))\n",
    "plt.plot(trainPredictPlot)\n",
    "plt.plot(testPredictPlot)\n",
    "plt.legend(['data', 'train','predict'], loc='best')\n",
    "plt.show()"
   ]
  },
  {
   "cell_type": "code",
   "execution_count": null,
   "metadata": {},
   "outputs": [],
   "source": [
    "print(y_train.shape)\n",
    "print(y_test.shape)"
   ]
  },
  {
   "cell_type": "code",
   "execution_count": null,
   "metadata": {},
   "outputs": [],
   "source": [
    "yhat = y_test\n",
    "yhat = yhat.reshape(len(yhat), 1, 1)"
   ]
  },
  {
   "cell_type": "code",
   "execution_count": null,
   "metadata": {},
   "outputs": [],
   "source": [
    "y = model.predict(yhat)\n",
    "y"
   ]
  },
  {
   "cell_type": "code",
   "execution_count": null,
   "metadata": {},
   "outputs": [],
   "source": [
    "data = y\n",
    "\n",
    "data = data.reshape(len(data), 1)\n",
    "\n",
    "scaler = MinMaxScaler(feature_range=(0, 1))\n",
    "data = scaler.fit_transform(data)\n",
    "\n",
    "train_size = int(len(data) * 0.80)\n",
    "test_size = len(data) - train_size\n",
    "\n",
    "train = data[0:train_size]\n",
    "test = data[train_size:len(data)]\n",
    "x_train, y_train = create_dataset(train, look_back)\n",
    "x_test, y_test = create_dataset(test, look_back)\n",
    "\n",
    "from xgboost import XGBRegressor\n",
    "XGBModel = XGBRegressor()\n",
    "XGBModel.fit(x_train,y_train, verbose=False)\n",
    "\n",
    "p = XGBModel.predict(x_test)\n",
    "plt.plot(y_test)\n",
    "plt.plot(p)\n",
    "plt.legend(['testY', 'p'], loc='upper right')\n",
    "plt.title(mean_squared_error(y_test, p))\n",
    "\n",
    "plt.show()\n",
    "print(mean_squared_error(y_test, p))"
   ]
  },
  {
   "cell_type": "code",
   "execution_count": null,
   "metadata": {},
   "outputs": [],
   "source": [
    "plt.plot(y_test)\n",
    "plt.xlim(0, 100)"
   ]
  },
  {
   "cell_type": "code",
   "execution_count": null,
   "metadata": {},
   "outputs": [],
   "source": [
    "plt.plot(p)\n",
    "plt.xlim(0, 100)"
   ]
  },
  {
   "cell_type": "code",
   "execution_count": null,
   "metadata": {},
   "outputs": [],
   "source": [
    "print(y_test[:100])"
   ]
  },
  {
   "cell_type": "code",
   "execution_count": null,
   "metadata": {},
   "outputs": [],
   "source": [
    "print(p[:100])"
   ]
  },
  {
   "cell_type": "code",
   "execution_count": null,
   "metadata": {},
   "outputs": [],
   "source": [
    "plt.scatter(len(y_test), y_test)"
   ]
  },
  {
   "cell_type": "code",
   "execution_count": null,
   "metadata": {},
   "outputs": [],
   "source": [
    "data = y\n",
    "#     data = data.value\n",
    "data = data.values.astype('float32')\n",
    "data = data.reshape(len(data), 1)\n",
    "\n",
    "scaler = MinMaxScaler(feature_range=(0, 1))\n",
    "data = scaler.fit_transform(data)\n",
    "\n",
    "train_size = int(len(data) * 0.80)\n",
    "test_size = len(data) - train_size\n",
    "\n",
    "train = data[0:train_size]\n",
    "test = data[train_size:len(data)]\n",
    "# x_train, y_train = create_dataset(train, look_back)\n",
    "# x_test, y_test = create_dataset(test, look_back)\n",
    "\n",
    "# x_train = np.reshape(x_train, (x_train.shape[0], x_train.shape[1], 1))\n",
    "# x_test = np.reshape(x_test, (x_test.shape[0], x_test.shape[1], 1))"
   ]
  },
  {
   "cell_type": "code",
   "execution_count": null,
   "metadata": {},
   "outputs": [],
   "source": [
    "# x = range(0,len(y))\n",
    "x = np.arange(0, len(y))\n",
    "x=x.reshape(len(x),1)"
   ]
  },
  {
   "cell_type": "code",
   "execution_count": null,
   "metadata": {},
   "outputs": [],
   "source": [
    "print(len(x))\n",
    "print(len(y))\n",
    "print(x.shape)\n",
    "print(y.shape)\n",
    "print(type(y))\n",
    "print(type(x))"
   ]
  },
  {
   "cell_type": "code",
   "execution_count": null,
   "metadata": {},
   "outputs": [],
   "source": [
    "x=x.reshape(len(x),1)\n",
    "x.shape"
   ]
  },
  {
   "cell_type": "code",
   "execution_count": null,
   "metadata": {},
   "outputs": [],
   "source": [
    "data = y\n",
    "\n",
    "from sklearn.model_selection import train_test_split\n",
    "x_train, x_test, y_train, y_test = train_test_split(x, y, test_size=0.2, random_state=42)\n",
    "\n",
    "XGBModel = XGBRegressor()\n",
    "XGBModel.fit(x_train,y_train, verbose=False)\n",
    "\n",
    "p = XGBModel.predict(x_test)\n",
    "plt.plot(y_test)\n",
    "plt.plot(p)\n",
    "plt.legend(['testY', 'p'], loc='upper right')\n",
    "plt.title(mean_squared_error(y_test, p))\n",
    "\n",
    "plt.show()\n",
    "print(mean_squared_error(y_test, p))"
   ]
  },
  {
   "cell_type": "code",
   "execution_count": null,
   "metadata": {},
   "outputs": [],
   "source": [
    "plt.plot(x_train)\n",
    "plt.plot(y_train)\n",
    "plt.show()"
   ]
  },
  {
   "cell_type": "code",
   "execution_count": null,
   "metadata": {},
   "outputs": [],
   "source": [
    "plt.plot(x_train)"
   ]
  },
  {
   "cell_type": "code",
   "execution_count": null,
   "metadata": {},
   "outputs": [],
   "source": [
    "plt.plot(y_train)"
   ]
  },
  {
   "cell_type": "code",
   "execution_count": null,
   "metadata": {},
   "outputs": [],
   "source": [
    "plt.plot(p)"
   ]
  },
  {
   "cell_type": "code",
   "execution_count": null,
   "metadata": {},
   "outputs": [],
   "source": [
    "from xgboost import XGBRegressor\n",
    "# import xgboost as xgb\n",
    "# from xgboost.sklearn import XGBRegressor\n",
    "XGBModel = XGBRegressor()\n",
    "XGBModel.fit(x,y, verbose=False)\n",
    "\n",
    "# Get the mean absolute error on the validation data :\n",
    "# XGBpredictions = XGBModel.predict(val_X)\n",
    "# MAE = mean_absolute_error(val_y , XGBpredictions)\n",
    "# print('XGBoost validation MAE = ',MAE)"
   ]
  },
  {
   "cell_type": "code",
   "execution_count": null,
   "metadata": {},
   "outputs": [],
   "source": [
    "from xgboost import plot_tree\n",
    "plot_tree(XGBModel)"
   ]
  },
  {
   "cell_type": "code",
   "execution_count": null,
   "metadata": {},
   "outputs": [],
   "source": [
    "from sklearn.ensemble import RandomForestRegressor\n",
    "model = RandomForestRegressor()\n",
    "model.fit(x,y)\n",
    "\n",
    "# Get the mean absolute error on the validation data\n",
    "predicted_prices = model.predict(val_X)\n",
    "MAE = mean_absolute_error(val_y , predicted_prices)\n",
    "print('Random forest validation MAE = ', MAE)"
   ]
  },
  {
   "cell_type": "code",
   "execution_count": null,
   "metadata": {},
   "outputs": [],
   "source": [
    "# 저장\n",
    "model_json = model.to_json()\n",
    "with open(\"s[0].json\", \"w\") as json_file :\n",
    "    json_file.write(model_json)\n",
    "model.save_weights(\"s[0].h5\")\n",
    "print(\"Saved model to disk\")"
   ]
  },
  {
   "cell_type": "code",
   "execution_count": null,
   "metadata": {
    "ExecuteTime": {
     "end_time": "2019-04-10T01:28:32.388650Z",
     "start_time": "2019-04-10T01:28:32.380171Z"
    }
   },
   "outputs": [],
   "source": [
    "# # 모델 불러오기\n",
    "# from keras.models import model_from_json\n",
    "# json_file = open(\"model1.json\", \"r\")\n",
    "# model_json = json_file.read()\n",
    "# json_file.close()\n",
    "# model = model_from_json(loaded_model_json)\n",
    "# model.load_weights(\"model1.h5\")\n",
    "# model.compile(loss=\"mean_squared_error\", optimizer=\"rmsprop\", metrics=['accuracy'])"
   ]
  },
  {
   "cell_type": "code",
   "execution_count": null,
   "metadata": {
    "ExecuteTime": {
     "end_time": "2019-04-10T01:28:32.815770Z",
     "start_time": "2019-04-10T01:28:32.391145Z"
    }
   },
   "outputs": [],
   "source": [
    "from keras.utils import plot_model\n",
    "plot_model(loaded_model, to_file='model.png')\n",
    "from IPython.display import SVG\n",
    "from keras.utils.vis_utils import model_to_dot\n",
    "\n",
    "SVG(model_to_dot(loaded_model).create(prog='dot', format='svg'))\n",
    "plot_model(loaded_model, to_file='model_plot.png')"
   ]
  },
  {
   "cell_type": "code",
   "execution_count": null,
   "metadata": {
    "ExecuteTime": {
     "end_time": "2019-04-10T01:28:32.818765Z",
     "start_time": "2019-04-10T00:57:47.928Z"
    }
   },
   "outputs": [],
   "source": [
    "SVG(model_to_dot(loaded_model).create(prog='dot', format='svg'))"
   ]
  },
  {
   "cell_type": "code",
   "execution_count": null,
   "metadata": {
    "ExecuteTime": {
     "end_time": "2019-04-10T04:21:01.192478Z",
     "start_time": "2019-04-10T04:21:00.824059Z"
    }
   },
   "outputs": [],
   "source": [
    "plt.plot(y_test)\n",
    "plt.plot(p)\n",
    "plt.legend(['testY', 'p'], loc='upper right')\n",
    "plt.title(mean_squared_error(y_test, p))\n",
    "# plt.savefig(datetime.datetime.now())\n",
    "plt.show()\n",
    "print(mean_squared_error(y_test, p))"
   ]
  },
  {
   "cell_type": "code",
   "execution_count": null,
   "metadata": {},
   "outputs": [],
   "source": [
    "p = model.predict(x_test)\n",
    "\n",
    "plt.plot(y_test)\n",
    "plt.plot(p)\n",
    "plt.legend(['testY', 'p'], loc='upper right')\n",
    "plt.title(mean_squared_error(y_test, p))\n",
    "# plt.savefig(datetime.datetime.now())\n",
    "plt.savefig(name)\n",
    "plt.show()\n",
    "print(mean_squared_error(y_test, p))"
   ]
  },
  {
   "cell_type": "code",
   "execution_count": null,
   "metadata": {},
   "outputs": [],
   "source": [
    "data = y # p\n",
    "scaler = MinMaxScaler(feature_range=(0, 1))\n",
    "data = scaler.fit_transform(data)\n",
    "x = np.arange(0, len(y))\n",
    "x=x.reshape(len(x),1)\n",
    "x = scaler.fit_transform(x)\n",
    "\n",
    "train_size = int(len(data) * 0.80)\n",
    "test_size = len(data) - train_size\n",
    "\n",
    "y_train = data[0:train_size]\n",
    "y_test = data[train_size:len(data)]\n",
    "x_train = x[0:train_size]\n",
    "x_test = x[train_size:len(x)]\n",
    "# from sklearn.model_selection import train_test_split\n",
    "# x_train, x_test, y_train, y_test = train_test_split(x, y, test_size=0.8, random_state=42)\n",
    "\n",
    "XGBModel = XGBRegressor()\n",
    "XGBModel.fit(x_train,y_train, verbose=False)\n",
    "\n",
    "p = XGBModel.predict(x_test)\n",
    "plt.plot(y_test)\n",
    "plt.plot(p)\n",
    "plt.legend(['y_test', 'p'], loc='upper right')\n",
    "plt.title(mean_squared_error(y_test, p))\n",
    "\n",
    "plt.show()\n",
    "print(mean_squared_error(y_test, p))"
   ]
  },
  {
   "cell_type": "code",
   "execution_count": null,
   "metadata": {},
   "outputs": [],
   "source": [
    "plt.plot(p)"
   ]
  },
  {
   "cell_type": "code",
   "execution_count": null,
   "metadata": {},
   "outputs": [],
   "source": [
    "plt.plot(y_test)"
   ]
  },
  {
   "cell_type": "code",
   "execution_count": null,
   "metadata": {},
   "outputs": [],
   "source": []
  }
 ],
 "metadata": {
  "kernelspec": {
   "display_name": "me",
   "language": "python",
   "name": "me"
  },
  "language_info": {
   "codemirror_mode": {
    "name": "ipython",
    "version": 3
   },
   "file_extension": ".py",
   "mimetype": "text/x-python",
   "name": "python",
   "nbconvert_exporter": "python",
   "pygments_lexer": "ipython3",
   "version": "3.6.7"
  }
 },
 "nbformat": 4,
 "nbformat_minor": 2
}
