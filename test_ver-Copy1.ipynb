{
 "cells": [
  {
   "cell_type": "code",
   "execution_count": 1,
   "metadata": {},
   "outputs": [
    {
     "name": "stderr",
     "output_type": "stream",
     "text": [
      "Using TensorFlow backend.\n",
      "D:\\Anaconda3\\envs\\me\\lib\\site-packages\\sklearn\\utils\\validation.py:595: DataConversionWarning: Data with input dtype int64 was converted to float64 by MinMaxScaler.\n",
      "  warnings.warn(msg, DataConversionWarning)\n"
     ]
    },
    {
     "name": "stdout",
     "output_type": "stream",
     "text": [
      "Epoch 1/10\n",
      "5394/5394 [==============================] - 25s 5ms/step - loss: 0.0624 - acc: 1.8539e-04\n",
      "Epoch 2/10\n",
      "5394/5394 [==============================] - 4s 689us/step - loss: 0.0449 - acc: 1.8539e-04\n",
      "Epoch 3/10\n",
      "5394/5394 [==============================] - 3s 464us/step - loss: 0.0340 - acc: 1.8539e-04\n",
      "Epoch 4/10\n",
      "5394/5394 [==============================] - 3s 509us/step - loss: 0.0269 - acc: 1.8539e-04\n",
      "Epoch 5/10\n",
      "5394/5394 [==============================] - 3s 496us/step - loss: 0.0236 - acc: 3.7078e-04\n",
      "Epoch 6/10\n",
      "5394/5394 [==============================] - 3s 501us/step - loss: 0.0217 - acc: 1.8539e-04\n",
      "Epoch 7/10\n",
      "5394/5394 [==============================] - 3s 488us/step - loss: 0.0199 - acc: 1.8539e-04\n",
      "Epoch 8/10\n",
      "5394/5394 [==============================] - 2s 463us/step - loss: 0.0179 - acc: 3.7078e-04\n",
      "Epoch 9/10\n",
      "5394/5394 [==============================] - 3s 517us/step - loss: 0.0171 - acc: 3.7078e-04\n",
      "Epoch 10/10\n",
      "5394/5394 [==============================] - 3s 528us/step - loss: 0.0160 - acc: 1.8539e-04\n",
      "Train Score:  [0.012520354029884466, 0.0003707823507601038]\n",
      "Test Score:  [0.012979010890353188, 0.0]\n"
     ]
    },
    {
     "data": {
      "text/plain": [
       "<Figure size 640x480 with 1 Axes>"
      ]
     },
     "metadata": {},
     "output_type": "display_data"
    }
   ],
   "source": [
    "#!/usr/bin/env python\n",
    "# coding: utf-8\n",
    "\n",
    "\n",
    "import pandas as pd\n",
    "import numpy as np\n",
    "from keras.models import Sequential\n",
    "from keras.layers import Dense, LSTM, Dropout\n",
    "from keras.layers.core import Dense, Activation, Dropout\n",
    "from sklearn.preprocessing import MinMaxScaler\n",
    "import matplotlib.pyplot as plt\n",
    "\n",
    "\n",
    "\n",
    "df = pd.read_csv('dataset.csv')\n",
    "\n",
    "\n",
    "\n",
    "df.head()\n",
    "\n",
    "\n",
    "# In[8]:\n",
    "\n",
    "\n",
    "df.columns\n",
    "\n",
    "\n",
    "# In[15]:\n",
    "\n",
    "\n",
    "df[' 역명 ']\n",
    "\n",
    "\n",
    "# In[17]:\n",
    "\n",
    "\n",
    "s = df[' 역명 ']\n",
    "\n",
    "\n",
    "# In[19]:\n",
    "\n",
    "\n",
    "s = set(s)\n",
    "\n",
    "\n",
    "# In[20]:\n",
    "\n",
    "\n",
    "len(s)\n",
    "\n",
    "\n",
    "# In[24]:\n",
    "\n",
    "\n",
    "s = list(s)\n",
    "# s = list(set(df[' 역명 ']))\n",
    "\n",
    "\n",
    "# In[25]:\n",
    "\n",
    "\n",
    "s\n",
    "\n",
    "\n",
    "# In[35]:\n",
    "\n",
    "\n",
    "data1 = df[df[' 역명 ']==s[0]]\n",
    "\n",
    "\n",
    "# In[36]:\n",
    "\n",
    "\n",
    "data1\n",
    "\n",
    "\n",
    "# In[37]:\n",
    "\n",
    "\n",
    "data1_a = data1[' 05~06 ']\n",
    "\n",
    "\n",
    "# In[38]:\n",
    "\n",
    "\n",
    "data1_a\n",
    "\n",
    "\n",
    "# In[45]:\n",
    "\n",
    "\n",
    "data1_a = data1[' 05~06 '].values\n",
    "\n",
    "\n",
    "# In[46]:\n",
    "\n",
    "\n",
    "type(data1_a)\n",
    "\n",
    "\n",
    "# In[48]:\n",
    "\n",
    "\n",
    "data1_a = data1_a.reshape(len(data1_a), 1)\n",
    "data1_a\n",
    "\n",
    "\n",
    "# In[63]:\n",
    "\n",
    "\n",
    "# 데이터셋 전처리\n",
    "scaler = MinMaxScaler(feature_range=(0, 1))\n",
    "signal_data = scaler.fit_transform(data1_a)\n",
    "\n",
    "\n",
    "# In[54]:\n",
    "\n",
    "\n",
    "train_size = int(len(signal_data) * 0.80)\n",
    "test_size = len(signal_data) - train_size\n",
    "\n",
    "\n",
    "# In[56]:\n",
    "\n",
    "\n",
    "train = signal_data[0:train_size]\n",
    "test = signal_data[train_size:len(signal_data)]\n",
    "\n",
    "\n",
    "# In[59]:\n",
    "\n",
    "\n",
    "def create_dataset(signal_data, look_back=1):\n",
    "    dataX, dataY = [], []\n",
    "    for i in range(len(signal_data) - look_back):\n",
    "        dataX.append(signal_data[i:(i + look_back), 0])\n",
    "        dataY.append(signal_data[i + look_back, 0])\n",
    "    return np.array(dataX), np.array(dataY)\n",
    "\n",
    "look_back = 10\n",
    "\n",
    "\n",
    "# In[60]:\n",
    "\n",
    "\n",
    "x_train, y_train = create_dataset(train, look_back)\n",
    "x_test, y_test = create_dataset(test, look_back)\n",
    "\n",
    "\n",
    "# In[61]:\n",
    "\n",
    "\n",
    "x_train = np.reshape(x_train, (x_train.shape[0], x_train.shape[1], 1))\n",
    "x_test = np.reshape(x_test, (x_test.shape[0], x_test.shape[1], 1))\n",
    "\n",
    "\n",
    "# In[64]:\n",
    "\n",
    "\n",
    "# 모델 구성하기\n",
    "model = Sequential()\n",
    "model.add(LSTM(32, input_shape=(None, 1)))\n",
    "model.add(Dropout(0.3))\n",
    "model.add(Dense(1))\n",
    "\n",
    "\n",
    "# In[71]:\n",
    "\n",
    "\n",
    "# 모델 학습과정 설정하기\n",
    "model.compile(loss='mean_squared_error', optimizer='rmsprop', metrics=['accuracy'])\n",
    "\n",
    "\n",
    "# In[72]:\n",
    "\n",
    "\n",
    "# 모델 학습시키기\n",
    "hist = model.fit(x_train, y_train, epochs=10, batch_size=32)\n",
    "\n",
    "\n",
    "# In[73]:\n",
    "\n",
    "\n",
    "# 모델 평가하기\n",
    "trainScore = model.evaluate(x_train, y_train, verbose=0)\n",
    "model.reset_states()\n",
    "print('Train Score: ', trainScore)\n",
    "\n",
    "testScore = model.evaluate(x_test, y_test, verbose=0)\n",
    "model.reset_states()\n",
    "print('Test Score: ', testScore)\n",
    "\n",
    "\n",
    "# In[74]:\n",
    "\n",
    "\n",
    "# 정확도 그리기.\n",
    "p = model.predict(x_test)\n",
    "\n",
    "\n",
    "# In[75]:\n",
    "\n",
    "\n",
    "import matplotlib.pyplot as plt\n",
    "\n",
    "plt.plot(y_test)\n",
    "plt.plot(p)\n",
    "plt.legend(['testY', 'p'], loc='upper right')\n",
    "plt.show()\n",
    "\n",
    "\n",
    "# In[ ]:\n"
   ]
  },
  {
   "cell_type": "code",
   "execution_count": 7,
   "metadata": {},
   "outputs": [
    {
     "name": "stderr",
     "output_type": "stream",
     "text": [
      "D:\\Anaconda3\\envs\\me\\lib\\site-packages\\sklearn\\utils\\validation.py:595: DataConversionWarning: Data with input dtype int64 was converted to float64 by MinMaxScaler.\n",
      "  warnings.warn(msg, DataConversionWarning)\n"
     ]
    },
    {
     "name": "stdout",
     "output_type": "stream",
     "text": [
      "Epoch 1/10\n",
      "5394/5394 [==============================] - 3s 612us/step - loss: 0.0630 - acc: 1.8539e-04\n",
      "Epoch 2/10\n",
      "5394/5394 [==============================] - 2s 460us/step - loss: 0.0412 - acc: 1.8539e-04\n",
      "Epoch 3/10\n",
      "5394/5394 [==============================] - 2s 459us/step - loss: 0.0258 - acc: 1.8539e-04\n",
      "Epoch 4/10\n",
      "5394/5394 [==============================] - 2s 462us/step - loss: 0.0226 - acc: 3.7078e-04\n",
      "Epoch 5/10\n",
      "5394/5394 [==============================] - 3s 466us/step - loss: 0.0205 - acc: 3.7078e-04\n",
      "Epoch 6/10\n",
      "5394/5394 [==============================] - 3s 514us/step - loss: 0.0192 - acc: 3.7078e-04\n",
      "Epoch 7/10\n",
      "5394/5394 [==============================] - 3s 478us/step - loss: 0.0166 - acc: 3.7078e-04\n",
      "Epoch 8/10\n",
      "5394/5394 [==============================] - 3s 469us/step - loss: 0.0160 - acc: 3.7078e-04\n",
      "Epoch 9/10\n",
      "5394/5394 [==============================] - 3s 493us/step - loss: 0.0152 - acc: 1.8539e-04\n",
      "Epoch 10/10\n",
      "5394/5394 [==============================] - 3s 466us/step - loss: 0.0141 - acc: 3.7078e-04\n"
     ]
    },
    {
     "name": "stderr",
     "output_type": "stream",
     "text": [
      "D:\\Anaconda3\\envs\\me\\lib\\site-packages\\sklearn\\utils\\validation.py:595: DataConversionWarning: Data with input dtype int64 was converted to float64 by MinMaxScaler.\n",
      "  warnings.warn(msg, DataConversionWarning)\n"
     ]
    },
    {
     "name": "stdout",
     "output_type": "stream",
     "text": [
      "Epoch 1/10\n",
      "5394/5394 [==============================] - 4s 666us/step - loss: 0.0632 - acc: 1.8539e-04\n",
      "Epoch 2/10\n",
      "5394/5394 [==============================] - 3s 464us/step - loss: 0.0373 - acc: 1.8539e-04\n",
      "Epoch 3/10\n",
      "5394/5394 [==============================] - 3s 474us/step - loss: 0.0238 - acc: 1.8539e-04\n",
      "Epoch 4/10\n",
      "5394/5394 [==============================] - 3s 576us/step - loss: 0.0208 - acc: 3.7078e-04\n",
      "Epoch 5/10\n",
      "5394/5394 [==============================] - 3s 570us/step - loss: 0.0180 - acc: 3.7078e-04\n",
      "Epoch 6/10\n",
      "5394/5394 [==============================] - 3s 544us/step - loss: 0.0169 - acc: 1.8539e-04\n",
      "Epoch 7/10\n",
      "5394/5394 [==============================] - 4s 649us/step - loss: 0.0159 - acc: 3.7078e-04\n",
      "Epoch 8/10\n",
      "5394/5394 [==============================] - 3s 616us/step - loss: 0.0149 - acc: 1.8539e-04\n",
      "Epoch 9/10\n",
      "5394/5394 [==============================] - 4s 746us/step - loss: 0.0142 - acc: 3.7078e-04\n",
      "Epoch 10/10\n",
      "5394/5394 [==============================] - 3s 466us/step - loss: 0.0139 - acc: 3.7078e-04\n"
     ]
    },
    {
     "name": "stderr",
     "output_type": "stream",
     "text": [
      "D:\\Anaconda3\\envs\\me\\lib\\site-packages\\sklearn\\utils\\validation.py:595: DataConversionWarning: Data with input dtype int64 was converted to float64 by MinMaxScaler.\n",
      "  warnings.warn(msg, DataConversionWarning)\n"
     ]
    },
    {
     "name": "stdout",
     "output_type": "stream",
     "text": [
      "Epoch 1/10\n",
      "5394/5394 [==============================] - 3s 641us/step - loss: 0.0630 - acc: 1.8539e-04\n",
      "Epoch 2/10\n",
      "5394/5394 [==============================] - 3s 474us/step - loss: 0.0329 - acc: 1.8539e-04\n",
      "Epoch 3/10\n",
      "5394/5394 [==============================] - 3s 473us/step - loss: 0.0221 - acc: 3.7078e-04\n",
      "Epoch 4/10\n",
      "5394/5394 [==============================] - 4s 770us/step - loss: 0.0187 - acc: 3.7078e-04\n",
      "Epoch 5/10\n",
      "5394/5394 [==============================] - 3s 499us/step - loss: 0.0173 - acc: 3.7078e-04\n",
      "Epoch 6/10\n",
      "5394/5394 [==============================] - 3s 487us/step - loss: 0.0160 - acc: 3.7078e-04\n",
      "Epoch 7/10\n",
      "5394/5394 [==============================] - 3s 488us/step - loss: 0.0151 - acc: 1.8539e-04\n",
      "Epoch 8/10\n",
      "5394/5394 [==============================] - 3s 494us/step - loss: 0.0145 - acc: 3.7078e-04\n",
      "Epoch 9/10\n",
      "5394/5394 [==============================] - 3s 502us/step - loss: 0.0138 - acc: 3.7078e-04\n",
      "Epoch 10/10\n",
      "5394/5394 [==============================] - 3s 495us/step - loss: 0.0134 - acc: 3.7078e-04\n"
     ]
    },
    {
     "name": "stderr",
     "output_type": "stream",
     "text": [
      "D:\\Anaconda3\\envs\\me\\lib\\site-packages\\sklearn\\utils\\validation.py:595: DataConversionWarning: Data with input dtype int64 was converted to float64 by MinMaxScaler.\n",
      "  warnings.warn(msg, DataConversionWarning)\n"
     ]
    },
    {
     "name": "stdout",
     "output_type": "stream",
     "text": [
      "Epoch 1/10\n",
      "5394/5394 [==============================] - 4s 695us/step - loss: 0.0629 - acc: 1.8539e-04\n",
      "Epoch 2/10\n",
      "5394/5394 [==============================] - 3s 484us/step - loss: 0.0387 - acc: 1.8539e-04\n",
      "Epoch 3/10\n",
      "5394/5394 [==============================] - 3s 490us/step - loss: 0.0238 - acc: 3.7078e-04\n",
      "Epoch 4/10\n",
      "5394/5394 [==============================] - 3s 485us/step - loss: 0.0203 - acc: 3.7078e-04\n",
      "Epoch 5/10\n",
      "5394/5394 [==============================] - 3s 483us/step - loss: 0.0176 - acc: 3.7078e-04\n",
      "Epoch 6/10\n",
      "5394/5394 [==============================] - 3s 473us/step - loss: 0.0166 - acc: 3.7078e-04\n",
      "Epoch 7/10\n",
      "5394/5394 [==============================] - 3s 477us/step - loss: 0.0157 - acc: 3.7078e-04\n",
      "Epoch 8/10\n",
      "5394/5394 [==============================] - 3s 571us/step - loss: 0.0146 - acc: 3.7078e-04\n",
      "Epoch 9/10\n",
      "5394/5394 [==============================] - 3s 579us/step - loss: 0.0142 - acc: 3.7078e-04\n",
      "Epoch 10/10\n",
      "5394/5394 [==============================] - 4s 664us/step - loss: 0.0134 - acc: 3.7078e-04\n"
     ]
    },
    {
     "name": "stderr",
     "output_type": "stream",
     "text": [
      "D:\\Anaconda3\\envs\\me\\lib\\site-packages\\sklearn\\utils\\validation.py:595: DataConversionWarning: Data with input dtype int64 was converted to float64 by MinMaxScaler.\n",
      "  warnings.warn(msg, DataConversionWarning)\n"
     ]
    },
    {
     "name": "stdout",
     "output_type": "stream",
     "text": [
      "Epoch 1/10\n",
      "5394/5394 [==============================] - 5s 855us/step - loss: 0.0647 - acc: 1.8539e-04\n",
      "Epoch 2/10\n",
      "5394/5394 [==============================] - 3s 485us/step - loss: 0.0364 - acc: 1.8539e-04\n",
      "Epoch 3/10\n",
      "5394/5394 [==============================] - 3s 567us/step - loss: 0.0232 - acc: 1.8539e-04\n",
      "Epoch 4/10\n",
      "5394/5394 [==============================] - 3s 528us/step - loss: 0.0203 - acc: 1.8539e-04\n",
      "Epoch 5/10\n",
      "5394/5394 [==============================] - 3s 484us/step - loss: 0.0182 - acc: 1.8539e-04\n",
      "Epoch 6/10\n",
      "5394/5394 [==============================] - 3s 486us/step - loss: 0.0167 - acc: 1.8539e-04\n",
      "Epoch 7/10\n",
      "5394/5394 [==============================] - 3s 519us/step - loss: 0.0156 - acc: 3.7078e-04\n",
      "Epoch 8/10\n",
      "5394/5394 [==============================] - 3s 495us/step - loss: 0.0148 - acc: 3.7078e-04\n",
      "Epoch 9/10\n",
      "5394/5394 [==============================] - 3s 499us/step - loss: 0.0144 - acc: 3.7078e-04\n",
      "Epoch 10/10\n",
      "5394/5394 [==============================] - 3s 502us/step - loss: 0.0137 - acc: 3.7078e-04\n"
     ]
    },
    {
     "name": "stderr",
     "output_type": "stream",
     "text": [
      "D:\\Anaconda3\\envs\\me\\lib\\site-packages\\sklearn\\utils\\validation.py:595: DataConversionWarning: Data with input dtype int64 was converted to float64 by MinMaxScaler.\n",
      "  warnings.warn(msg, DataConversionWarning)\n"
     ]
    },
    {
     "name": "stdout",
     "output_type": "stream",
     "text": [
      "Epoch 1/10\n",
      "5394/5394 [==============================] - 4s 808us/step - loss: 0.0614 - acc: 1.8539e-04\n",
      "Epoch 2/10\n",
      "5394/5394 [==============================] - 3s 527us/step - loss: 0.0348 - acc: 1.8539e-04\n",
      "Epoch 3/10\n",
      "5394/5394 [==============================] - 3s 497us/step - loss: 0.0237 - acc: 3.7078e-04\n",
      "Epoch 4/10\n",
      "5394/5394 [==============================] - 3s 491us/step - loss: 0.0198 - acc: 1.8539e-04\n",
      "Epoch 5/10\n",
      "5394/5394 [==============================] - 3s 475us/step - loss: 0.0177 - acc: 1.8539e-04\n",
      "Epoch 6/10\n",
      "5394/5394 [==============================] - 3s 489us/step - loss: 0.0163 - acc: 3.7078e-04\n",
      "Epoch 7/10\n",
      "5394/5394 [==============================] - 3s 517us/step - loss: 0.0156 - acc: 3.7078e-04\n",
      "Epoch 8/10\n",
      "5394/5394 [==============================] - 3s 490us/step - loss: 0.0146 - acc: 3.7078e-04\n",
      "Epoch 9/10\n",
      "5394/5394 [==============================] - 3s 470us/step - loss: 0.0140 - acc: 3.7078e-04\n",
      "Epoch 10/10\n",
      "5394/5394 [==============================] - 3s 493us/step - loss: 0.0133 - acc: 3.7078e-04\n"
     ]
    },
    {
     "name": "stderr",
     "output_type": "stream",
     "text": [
      "D:\\Anaconda3\\envs\\me\\lib\\site-packages\\sklearn\\utils\\validation.py:595: DataConversionWarning: Data with input dtype int64 was converted to float64 by MinMaxScaler.\n",
      "  warnings.warn(msg, DataConversionWarning)\n"
     ]
    },
    {
     "name": "stdout",
     "output_type": "stream",
     "text": [
      "Epoch 1/10\n",
      "5394/5394 [==============================] - 4s 748us/step - loss: 0.0623 - acc: 1.8539e-04\n",
      "Epoch 2/10\n",
      "5394/5394 [==============================] - 3s 528us/step - loss: 0.0337 - acc: 3.7078e-04\n",
      "Epoch 3/10\n",
      "5394/5394 [==============================] - 3s 494us/step - loss: 0.0216 - acc: 3.7078e-04\n",
      "Epoch 4/10\n",
      "5394/5394 [==============================] - 3s 533us/step - loss: 0.0193 - acc: 3.7078e-04\n",
      "Epoch 5/10\n",
      "5394/5394 [==============================] - 3s 485us/step - loss: 0.0174 - acc: 3.7078e-04\n",
      "Epoch 6/10\n",
      "5394/5394 [==============================] - 3s 468us/step - loss: 0.0160 - acc: 3.7078e-04\n",
      "Epoch 7/10\n",
      "5394/5394 [==============================] - 3s 494us/step - loss: 0.0150 - acc: 3.7078e-04\n",
      "Epoch 8/10\n",
      "5394/5394 [==============================] - 2s 458us/step - loss: 0.0145 - acc: 3.7078e-04\n",
      "Epoch 9/10\n",
      "5394/5394 [==============================] - 2s 457us/step - loss: 0.0138 - acc: 3.7078e-04\n",
      "Epoch 10/10\n",
      "5394/5394 [==============================] - 3s 472us/step - loss: 0.0134 - acc: 3.7078e-04\n"
     ]
    },
    {
     "name": "stderr",
     "output_type": "stream",
     "text": [
      "D:\\Anaconda3\\envs\\me\\lib\\site-packages\\sklearn\\utils\\validation.py:595: DataConversionWarning: Data with input dtype int64 was converted to float64 by MinMaxScaler.\n",
      "  warnings.warn(msg, DataConversionWarning)\n"
     ]
    },
    {
     "name": "stdout",
     "output_type": "stream",
     "text": [
      "Epoch 1/10\n",
      "5394/5394 [==============================] - 4s 747us/step - loss: 0.0606 - acc: 1.8539e-04\n",
      "Epoch 2/10\n",
      "5394/5394 [==============================] - 3s 466us/step - loss: 0.0342 - acc: 1.8539e-04\n",
      "Epoch 3/10\n",
      "5394/5394 [==============================] - 3s 472us/step - loss: 0.0220 - acc: 1.8539e-04\n",
      "Epoch 4/10\n",
      "5394/5394 [==============================] - 2s 457us/step - loss: 0.0201 - acc: 3.7078e-04\n",
      "Epoch 5/10\n",
      "5394/5394 [==============================] - 2s 461us/step - loss: 0.0177 - acc: 1.8539e-04\n",
      "Epoch 6/10\n",
      "5394/5394 [==============================] - 2s 445us/step - loss: 0.0159 - acc: 3.7078e-04\n",
      "Epoch 7/10\n",
      "5394/5394 [==============================] - 2s 444us/step - loss: 0.0155 - acc: 3.7078e-04\n",
      "Epoch 8/10\n",
      "5394/5394 [==============================] - 2s 456us/step - loss: 0.0147 - acc: 3.7078e-04\n",
      "Epoch 9/10\n",
      "5394/5394 [==============================] - 2s 452us/step - loss: 0.0142 - acc: 3.7078e-04\n",
      "Epoch 10/10\n",
      "5394/5394 [==============================] - 3s 466us/step - loss: 0.0132 - acc: 3.7078e-04\n"
     ]
    },
    {
     "name": "stderr",
     "output_type": "stream",
     "text": [
      "D:\\Anaconda3\\envs\\me\\lib\\site-packages\\sklearn\\utils\\validation.py:595: DataConversionWarning: Data with input dtype int64 was converted to float64 by MinMaxScaler.\n",
      "  warnings.warn(msg, DataConversionWarning)\n"
     ]
    },
    {
     "name": "stdout",
     "output_type": "stream",
     "text": [
      "Epoch 1/10\n",
      "5394/5394 [==============================] - 4s 801us/step - loss: 0.0607 - acc: 1.8539e-04\n",
      "Epoch 2/10\n",
      "5394/5394 [==============================] - 3s 512us/step - loss: 0.0339 - acc: 3.7078e-04\n",
      "Epoch 3/10\n",
      "5394/5394 [==============================] - 3s 518us/step - loss: 0.0221 - acc: 1.8539e-04\n",
      "Epoch 4/10\n",
      "5394/5394 [==============================] - 3s 510us/step - loss: 0.0193 - acc: 1.8539e-04\n",
      "Epoch 5/10\n",
      "5394/5394 [==============================] - 3s 501us/step - loss: 0.0176 - acc: 3.7078e-04\n",
      "Epoch 6/10\n",
      "5394/5394 [==============================] - 3s 497us/step - loss: 0.0160 - acc: 1.8539e-04\n",
      "Epoch 7/10\n",
      "5394/5394 [==============================] - 3s 491us/step - loss: 0.0148 - acc: 3.7078e-04\n",
      "Epoch 8/10\n",
      "5394/5394 [==============================] - 3s 499us/step - loss: 0.0141 - acc: 3.7078e-04\n",
      "Epoch 9/10\n",
      "5394/5394 [==============================] - 3s 497us/step - loss: 0.0135 - acc: 3.7078e-04\n",
      "Epoch 10/10\n",
      "5394/5394 [==============================] - 3s 490us/step - loss: 0.0134 - acc: 3.7078e-04\n"
     ]
    },
    {
     "name": "stderr",
     "output_type": "stream",
     "text": [
      "D:\\Anaconda3\\envs\\me\\lib\\site-packages\\sklearn\\utils\\validation.py:595: DataConversionWarning: Data with input dtype int64 was converted to float64 by MinMaxScaler.\n",
      "  warnings.warn(msg, DataConversionWarning)\n"
     ]
    },
    {
     "name": "stdout",
     "output_type": "stream",
     "text": [
      "Epoch 1/10\n",
      "5394/5394 [==============================] - 4s 803us/step - loss: 0.0611 - acc: 1.8539e-04\n",
      "Epoch 2/10\n",
      "5394/5394 [==============================] - 3s 493us/step - loss: 0.0436 - acc: 1.8539e-04\n",
      "Epoch 3/10\n",
      "5394/5394 [==============================] - 3s 495us/step - loss: 0.0300 - acc: 3.7078e-04\n",
      "Epoch 4/10\n",
      "5394/5394 [==============================] - 3s 493us/step - loss: 0.0246 - acc: 3.7078e-04\n",
      "Epoch 5/10\n",
      "5394/5394 [==============================] - 3s 499us/step - loss: 0.0215 - acc: 1.8539e-04\n",
      "Epoch 6/10\n",
      "5394/5394 [==============================] - 3s 492us/step - loss: 0.0196 - acc: 3.7078e-04\n",
      "Epoch 7/10\n",
      "5394/5394 [==============================] - 3s 481us/step - loss: 0.0180 - acc: 1.8539e-04\n",
      "Epoch 8/10\n",
      "5394/5394 [==============================] - 3s 514us/step - loss: 0.0164 - acc: 3.7078e-04\n",
      "Epoch 9/10\n",
      "5394/5394 [==============================] - 3s 501us/step - loss: 0.0159 - acc: 3.7078e-04\n",
      "Epoch 10/10\n",
      "5394/5394 [==============================] - 3s 491us/step - loss: 0.0150 - acc: 3.7078e-04\n"
     ]
    },
    {
     "name": "stderr",
     "output_type": "stream",
     "text": [
      "D:\\Anaconda3\\envs\\me\\lib\\site-packages\\sklearn\\utils\\validation.py:595: DataConversionWarning: Data with input dtype int64 was converted to float64 by MinMaxScaler.\n",
      "  warnings.warn(msg, DataConversionWarning)\n"
     ]
    },
    {
     "name": "stdout",
     "output_type": "stream",
     "text": [
      "Epoch 1/10\n",
      "5394/5394 [==============================] - 5s 846us/step - loss: 0.0612 - acc: 1.8539e-04\n",
      "Epoch 2/10\n",
      "5394/5394 [==============================] - 3s 511us/step - loss: 0.0347 - acc: 1.8539e-04\n",
      "Epoch 3/10\n",
      "5394/5394 [==============================] - 3s 503us/step - loss: 0.0230 - acc: 3.7078e-04\n",
      "Epoch 4/10\n",
      "5394/5394 [==============================] - 3s 494us/step - loss: 0.0198 - acc: 3.7078e-04\n",
      "Epoch 5/10\n",
      "5394/5394 [==============================] - 3s 482us/step - loss: 0.0182 - acc: 3.7078e-04\n",
      "Epoch 6/10\n",
      "5394/5394 [==============================] - 3s 476us/step - loss: 0.0166 - acc: 1.8539e-04\n",
      "Epoch 7/10\n",
      "5394/5394 [==============================] - 3s 477us/step - loss: 0.0154 - acc: 3.7078e-04\n",
      "Epoch 8/10\n",
      "5394/5394 [==============================] - 3s 474us/step - loss: 0.0146 - acc: 3.7078e-04\n",
      "Epoch 9/10\n",
      "5394/5394 [==============================] - 3s 490us/step - loss: 0.0141 - acc: 3.7078e-04\n",
      "Epoch 10/10\n",
      "5394/5394 [==============================] - 3s 491us/step - loss: 0.0140 - acc: 1.8539e-04\n"
     ]
    },
    {
     "name": "stderr",
     "output_type": "stream",
     "text": [
      "D:\\Anaconda3\\envs\\me\\lib\\site-packages\\sklearn\\utils\\validation.py:595: DataConversionWarning: Data with input dtype int64 was converted to float64 by MinMaxScaler.\n",
      "  warnings.warn(msg, DataConversionWarning)\n"
     ]
    },
    {
     "name": "stdout",
     "output_type": "stream",
     "text": [
      "Epoch 1/10\n",
      "5394/5394 [==============================] - 5s 955us/step - loss: 0.0632 - acc: 1.8539e-04\n",
      "Epoch 2/10\n",
      "5394/5394 [==============================] - 3s 497us/step - loss: 0.0431 - acc: 1.8539e-04\n",
      "Epoch 3/10\n",
      "5394/5394 [==============================] - 3s 539us/step - loss: 0.0274 - acc: 1.8539e-04\n",
      "Epoch 4/10\n",
      "5394/5394 [==============================] - 3s 532us/step - loss: 0.0233 - acc: 3.7078e-04\n",
      "Epoch 5/10\n",
      "5394/5394 [==============================] - 3s 524us/step - loss: 0.0206 - acc: 1.8539e-04\n",
      "Epoch 6/10\n",
      "5394/5394 [==============================] - 3s 522us/step - loss: 0.0187 - acc: 3.7078e-04\n",
      "Epoch 7/10\n",
      "5394/5394 [==============================] - 3s 491us/step - loss: 0.0174 - acc: 3.7078e-04\n",
      "Epoch 8/10\n",
      "5394/5394 [==============================] - 3s 486us/step - loss: 0.0157 - acc: 1.8539e-04\n",
      "Epoch 9/10\n",
      "5394/5394 [==============================] - 3s 530us/step - loss: 0.0152 - acc: 3.7078e-04\n",
      "Epoch 10/10\n",
      "5394/5394 [==============================] - 3s 491us/step - loss: 0.0143 - acc: 3.7078e-04\n"
     ]
    },
    {
     "name": "stderr",
     "output_type": "stream",
     "text": [
      "D:\\Anaconda3\\envs\\me\\lib\\site-packages\\sklearn\\utils\\validation.py:595: DataConversionWarning: Data with input dtype int64 was converted to float64 by MinMaxScaler.\n",
      "  warnings.warn(msg, DataConversionWarning)\n"
     ]
    },
    {
     "name": "stdout",
     "output_type": "stream",
     "text": [
      "Epoch 1/10\n",
      "5394/5394 [==============================] - 4s 824us/step - loss: 0.0620 - acc: 1.8539e-04\n",
      "Epoch 2/10\n",
      "5394/5394 [==============================] - 3s 478us/step - loss: 0.0395 - acc: 1.8539e-04\n",
      "Epoch 3/10\n",
      "5394/5394 [==============================] - 3s 465us/step - loss: 0.0259 - acc: 1.8539e-04\n",
      "Epoch 4/10\n",
      "5394/5394 [==============================] - 3s 486us/step - loss: 0.0213 - acc: 1.8539e-04\n",
      "Epoch 5/10\n",
      "5394/5394 [==============================] - 3s 499us/step - loss: 0.0196 - acc: 3.7078e-04\n",
      "Epoch 6/10\n",
      "5394/5394 [==============================] - 3s 517us/step - loss: 0.0182 - acc: 3.7078e-04\n",
      "Epoch 7/10\n",
      "5394/5394 [==============================] - 3s 525us/step - loss: 0.0166 - acc: 3.7078e-04\n",
      "Epoch 8/10\n",
      "5394/5394 [==============================] - 3s 518us/step - loss: 0.0156 - acc: 3.7078e-04\n",
      "Epoch 9/10\n",
      "5394/5394 [==============================] - 3s 512us/step - loss: 0.0146 - acc: 3.7078e-04\n",
      "Epoch 10/10\n",
      "5394/5394 [==============================] - 3s 491us/step - loss: 0.0141 - acc: 3.7078e-04\n"
     ]
    },
    {
     "name": "stderr",
     "output_type": "stream",
     "text": [
      "D:\\Anaconda3\\envs\\me\\lib\\site-packages\\sklearn\\utils\\validation.py:595: DataConversionWarning: Data with input dtype int64 was converted to float64 by MinMaxScaler.\n",
      "  warnings.warn(msg, DataConversionWarning)\n"
     ]
    },
    {
     "name": "stdout",
     "output_type": "stream",
     "text": [
      "Epoch 1/10\n",
      "5394/5394 [==============================] - 5s 865us/step - loss: 0.0627 - acc: 1.8539e-04\n",
      "Epoch 2/10\n",
      "5394/5394 [==============================] - 3s 481us/step - loss: 0.0462 - acc: 1.8539e-04\n",
      "Epoch 3/10\n",
      "5394/5394 [==============================] - 3s 477us/step - loss: 0.0346 - acc: 1.8539e-04\n",
      "Epoch 4/10\n",
      "5394/5394 [==============================] - 3s 487us/step - loss: 0.0265 - acc: 3.7078e-04\n",
      "Epoch 5/10\n",
      "5394/5394 [==============================] - 3s 479us/step - loss: 0.0238 - acc: 1.8539e-04\n",
      "Epoch 6/10\n",
      "5394/5394 [==============================] - 3s 482us/step - loss: 0.0215 - acc: 3.7078e-04\n",
      "Epoch 7/10\n",
      "5394/5394 [==============================] - 3s 487us/step - loss: 0.0195 - acc: 3.7078e-04\n",
      "Epoch 8/10\n",
      "5394/5394 [==============================] - 3s 478us/step - loss: 0.0176 - acc: 3.7078e-04\n",
      "Epoch 9/10\n",
      "5394/5394 [==============================] - 3s 485us/step - loss: 0.0164 - acc: 3.7078e-04\n",
      "Epoch 10/10\n",
      "5394/5394 [==============================] - 3s 483us/step - loss: 0.0151 - acc: 3.7078e-04\n"
     ]
    },
    {
     "name": "stderr",
     "output_type": "stream",
     "text": [
      "D:\\Anaconda3\\envs\\me\\lib\\site-packages\\sklearn\\utils\\validation.py:595: DataConversionWarning: Data with input dtype int64 was converted to float64 by MinMaxScaler.\n",
      "  warnings.warn(msg, DataConversionWarning)\n"
     ]
    },
    {
     "name": "stdout",
     "output_type": "stream",
     "text": [
      "Epoch 1/10\n",
      "5394/5394 [==============================] - 5s 875us/step - loss: 0.0605 - acc: 1.8539e-04\n",
      "Epoch 2/10\n",
      "5394/5394 [==============================] - 3s 483us/step - loss: 0.0349 - acc: 1.8539e-04\n",
      "Epoch 3/10\n",
      "5394/5394 [==============================] - 3s 472us/step - loss: 0.0234 - acc: 1.8539e-04\n",
      "Epoch 4/10\n",
      "5394/5394 [==============================] - 3s 482us/step - loss: 0.0201 - acc: 3.7078e-04\n",
      "Epoch 5/10\n",
      "5394/5394 [==============================] - 3s 484us/step - loss: 0.0181 - acc: 3.7078e-04\n",
      "Epoch 6/10\n",
      "5394/5394 [==============================] - 3s 495us/step - loss: 0.0161 - acc: 1.8539e-04\n",
      "Epoch 7/10\n",
      "5394/5394 [==============================] - 3s 490us/step - loss: 0.0155 - acc: 1.8539e-04\n",
      "Epoch 8/10\n",
      "5394/5394 [==============================] - 3s 495us/step - loss: 0.0146 - acc: 3.7078e-04\n",
      "Epoch 9/10\n",
      "5394/5394 [==============================] - 3s 480us/step - loss: 0.0141 - acc: 3.7078e-04\n",
      "Epoch 10/10\n",
      "5394/5394 [==============================] - 3s 495us/step - loss: 0.0134 - acc: 3.7078e-04\n"
     ]
    },
    {
     "name": "stderr",
     "output_type": "stream",
     "text": [
      "D:\\Anaconda3\\envs\\me\\lib\\site-packages\\sklearn\\utils\\validation.py:595: DataConversionWarning: Data with input dtype int64 was converted to float64 by MinMaxScaler.\n",
      "  warnings.warn(msg, DataConversionWarning)\n"
     ]
    },
    {
     "name": "stdout",
     "output_type": "stream",
     "text": [
      "Epoch 1/10\n",
      "5394/5394 [==============================] - 4s 822us/step - loss: 0.0601 - acc: 1.8539e-04\n",
      "Epoch 2/10\n",
      "5394/5394 [==============================] - 3s 479us/step - loss: 0.0379 - acc: 1.8539e-04\n",
      "Epoch 3/10\n",
      "5394/5394 [==============================] - 3s 497us/step - loss: 0.0239 - acc: 1.8539e-04\n",
      "Epoch 4/10\n",
      "5394/5394 [==============================] - 3s 489us/step - loss: 0.0201 - acc: 3.7078e-04\n",
      "Epoch 5/10\n",
      "5394/5394 [==============================] - 2s 462us/step - loss: 0.0182 - acc: 3.7078e-04\n",
      "Epoch 6/10\n",
      "5394/5394 [==============================] - 3s 480us/step - loss: 0.0163 - acc: 3.7078e-04\n",
      "Epoch 7/10\n",
      "5394/5394 [==============================] - 3s 485us/step - loss: 0.0156 - acc: 3.7078e-04\n",
      "Epoch 8/10\n",
      "5394/5394 [==============================] - 3s 489us/step - loss: 0.0150 - acc: 3.7078e-04\n",
      "Epoch 9/10\n",
      "5394/5394 [==============================] - 3s 495us/step - loss: 0.0140 - acc: 3.7078e-04\n",
      "Epoch 10/10\n",
      "5394/5394 [==============================] - 3s 495us/step - loss: 0.0135 - acc: 3.7078e-04\n"
     ]
    },
    {
     "name": "stderr",
     "output_type": "stream",
     "text": [
      "D:\\Anaconda3\\envs\\me\\lib\\site-packages\\sklearn\\utils\\validation.py:595: DataConversionWarning: Data with input dtype int64 was converted to float64 by MinMaxScaler.\n",
      "  warnings.warn(msg, DataConversionWarning)\n"
     ]
    },
    {
     "name": "stdout",
     "output_type": "stream",
     "text": [
      "Epoch 1/10\n",
      "5394/5394 [==============================] - 5s 921us/step - loss: 0.0628 - acc: 1.8539e-04\n",
      "Epoch 2/10\n",
      "5394/5394 [==============================] - 3s 492us/step - loss: 0.0353 - acc: 1.8539e-04\n",
      "Epoch 3/10\n",
      "5394/5394 [==============================] - 3s 502us/step - loss: 0.0226 - acc: 3.7078e-04\n",
      "Epoch 4/10\n",
      "5394/5394 [==============================] - 3s 494us/step - loss: 0.0196 - acc: 1.8539e-04\n",
      "Epoch 5/10\n",
      "5394/5394 [==============================] - 3s 500us/step - loss: 0.0177 - acc: 3.7078e-04\n",
      "Epoch 6/10\n",
      "5394/5394 [==============================] - 3s 496us/step - loss: 0.0162 - acc: 1.8539e-04\n",
      "Epoch 7/10\n",
      "5394/5394 [==============================] - 3s 502us/step - loss: 0.0154 - acc: 3.7078e-04\n",
      "Epoch 8/10\n",
      "5394/5394 [==============================] - 3s 509us/step - loss: 0.0148 - acc: 3.7078e-04\n",
      "Epoch 9/10\n",
      "5394/5394 [==============================] - 3s 498us/step - loss: 0.0141 - acc: 3.7078e-04\n",
      "Epoch 10/10\n",
      "5394/5394 [==============================] - 3s 511us/step - loss: 0.0138 - acc: 3.7078e-04\n"
     ]
    },
    {
     "name": "stderr",
     "output_type": "stream",
     "text": [
      "D:\\Anaconda3\\envs\\me\\lib\\site-packages\\sklearn\\utils\\validation.py:595: DataConversionWarning: Data with input dtype int64 was converted to float64 by MinMaxScaler.\n",
      "  warnings.warn(msg, DataConversionWarning)\n"
     ]
    },
    {
     "name": "stdout",
     "output_type": "stream",
     "text": [
      "Epoch 1/10\n",
      "5394/5394 [==============================] - 5s 983us/step - loss: 0.0641 - acc: 1.8539e-04\n",
      "Epoch 2/10\n",
      "5394/5394 [==============================] - 3s 479us/step - loss: 0.0406 - acc: 1.8539e-04\n",
      "Epoch 3/10\n",
      "5394/5394 [==============================] - 2s 463us/step - loss: 0.0268 - acc: 1.8539e-04\n",
      "Epoch 4/10\n",
      "5394/5394 [==============================] - 2s 463us/step - loss: 0.0219 - acc: 3.7078e-04\n",
      "Epoch 5/10\n",
      "5394/5394 [==============================] - 3s 476us/step - loss: 0.0190 - acc: 3.7078e-04\n",
      "Epoch 6/10\n",
      "5394/5394 [==============================] - 2s 454us/step - loss: 0.0172 - acc: 3.7078e-04\n",
      "Epoch 7/10\n",
      "5394/5394 [==============================] - 2s 454us/step - loss: 0.0158 - acc: 3.7078e-04\n",
      "Epoch 8/10\n",
      "5394/5394 [==============================] - 2s 456us/step - loss: 0.0149 - acc: 1.8539e-04\n",
      "Epoch 9/10\n",
      "5394/5394 [==============================] - 2s 452us/step - loss: 0.0142 - acc: 3.7078e-04\n",
      "Epoch 10/10\n",
      "5394/5394 [==============================] - 2s 456us/step - loss: 0.0135 - acc: 1.8539e-04\n"
     ]
    },
    {
     "name": "stderr",
     "output_type": "stream",
     "text": [
      "D:\\Anaconda3\\envs\\me\\lib\\site-packages\\sklearn\\utils\\validation.py:595: DataConversionWarning: Data with input dtype int64 was converted to float64 by MinMaxScaler.\n",
      "  warnings.warn(msg, DataConversionWarning)\n"
     ]
    },
    {
     "name": "stdout",
     "output_type": "stream",
     "text": [
      "Epoch 1/10\n",
      "5394/5394 [==============================] - 5s 838us/step - loss: 0.0657 - acc: 1.8539e-04\n",
      "Epoch 2/10\n",
      "5394/5394 [==============================] - 2s 455us/step - loss: 0.0457 - acc: 1.8539e-04\n",
      "Epoch 3/10\n",
      "5394/5394 [==============================] - 2s 454us/step - loss: 0.0302 - acc: 1.8539e-04\n",
      "Epoch 4/10\n",
      "5394/5394 [==============================] - 2s 453us/step - loss: 0.0245 - acc: 3.7078e-04\n",
      "Epoch 5/10\n",
      "5394/5394 [==============================] - 2s 453us/step - loss: 0.0229 - acc: 3.7078e-04\n",
      "Epoch 6/10\n",
      "5394/5394 [==============================] - 2s 449us/step - loss: 0.0215 - acc: 1.8539e-04\n",
      "Epoch 7/10\n",
      "5394/5394 [==============================] - 2s 457us/step - loss: 0.0186 - acc: 1.8539e-04\n",
      "Epoch 8/10\n",
      "5394/5394 [==============================] - 2s 460us/step - loss: 0.0175 - acc: 3.7078e-04\n",
      "Epoch 9/10\n",
      "5394/5394 [==============================] - 2s 455us/step - loss: 0.0161 - acc: 3.7078e-04\n",
      "Epoch 10/10\n",
      "5394/5394 [==============================] - 3s 464us/step - loss: 0.0155 - acc: 1.8539e-04\n"
     ]
    },
    {
     "name": "stderr",
     "output_type": "stream",
     "text": [
      "D:\\Anaconda3\\envs\\me\\lib\\site-packages\\sklearn\\utils\\validation.py:595: DataConversionWarning: Data with input dtype int64 was converted to float64 by MinMaxScaler.\n",
      "  warnings.warn(msg, DataConversionWarning)\n"
     ]
    },
    {
     "name": "stdout",
     "output_type": "stream",
     "text": [
      "Epoch 1/10\n",
      "5394/5394 [==============================] - 5s 849us/step - loss: 0.0645 - acc: 1.8539e-04\n",
      "Epoch 2/10\n",
      "5394/5394 [==============================] - 2s 451us/step - loss: 0.0337 - acc: 1.8539e-04\n",
      "Epoch 3/10\n",
      "5394/5394 [==============================] - 2s 460us/step - loss: 0.0228 - acc: 3.7078e-04\n",
      "Epoch 4/10\n",
      "5394/5394 [==============================] - 3s 464us/step - loss: 0.0199 - acc: 3.7078e-04\n",
      "Epoch 5/10\n",
      "5394/5394 [==============================] - 2s 461us/step - loss: 0.0176 - acc: 3.7078e-04\n",
      "Epoch 6/10\n",
      "5394/5394 [==============================] - 2s 457us/step - loss: 0.0165 - acc: 3.7078e-04\n",
      "Epoch 7/10\n",
      "5394/5394 [==============================] - 2s 459us/step - loss: 0.0147 - acc: 3.7078e-04\n",
      "Epoch 8/10\n",
      "5394/5394 [==============================] - 2s 456us/step - loss: 0.0143 - acc: 3.7078e-04\n",
      "Epoch 9/10\n",
      "5394/5394 [==============================] - 2s 463us/step - loss: 0.0139 - acc: 3.7078e-04\n",
      "Epoch 10/10\n",
      "5394/5394 [==============================] - 2s 457us/step - loss: 0.0132 - acc: 3.7078e-04\n"
     ]
    },
    {
     "name": "stderr",
     "output_type": "stream",
     "text": [
      "D:\\Anaconda3\\envs\\me\\lib\\site-packages\\sklearn\\utils\\validation.py:595: DataConversionWarning: Data with input dtype int64 was converted to float64 by MinMaxScaler.\n",
      "  warnings.warn(msg, DataConversionWarning)\n"
     ]
    },
    {
     "name": "stdout",
     "output_type": "stream",
     "text": [
      "Epoch 1/10\n",
      "5394/5394 [==============================] - 5s 873us/step - loss: 0.0608 - acc: 1.8539e-04\n",
      "Epoch 2/10\n",
      "5394/5394 [==============================] - 2s 454us/step - loss: 0.0366 - acc: 1.8539e-04\n",
      "Epoch 3/10\n",
      "5394/5394 [==============================] - 2s 455us/step - loss: 0.0240 - acc: 3.7078e-04\n",
      "Epoch 4/10\n",
      "5394/5394 [==============================] - 2s 455us/step - loss: 0.0207 - acc: 1.8539e-04\n",
      "Epoch 5/10\n",
      "5394/5394 [==============================] - 2s 451us/step - loss: 0.0190 - acc: 3.7078e-04\n",
      "Epoch 6/10\n",
      "5394/5394 [==============================] - 2s 457us/step - loss: 0.0176 - acc: 3.7078e-04\n",
      "Epoch 7/10\n",
      "5394/5394 [==============================] - 2s 454us/step - loss: 0.0162 - acc: 3.7078e-04\n",
      "Epoch 8/10\n",
      "5394/5394 [==============================] - 2s 461us/step - loss: 0.0152 - acc: 3.7078e-04\n",
      "Epoch 9/10\n",
      "5394/5394 [==============================] - 2s 454us/step - loss: 0.0144 - acc: 3.7078e-04\n",
      "Epoch 10/10\n",
      "5394/5394 [==============================] - 2s 457us/step - loss: 0.0141 - acc: 1.8539e-04\n"
     ]
    }
   ],
   "source": [
    "data_model = []\n",
    "\n",
    "for time in data1.columns:\n",
    "    data = data1[time]\n",
    "    data = data.values\n",
    "    data = data.reshape(len(data), 1)\n",
    "    \n",
    "    scaler = MinMaxScaler(feature_range=(0, 1))\n",
    "    data = scaler.fit_transform(data)\n",
    "    \n",
    "    train_size = int(len(signal_data) * 0.80)\n",
    "    test_size = len(signal_data) - train_size\n",
    "    \n",
    "    x_train, y_train = create_dataset(train, look_back)\n",
    "    x_test, y_test = create_dataset(test, look_back)\n",
    "    \n",
    "    x_train = np.reshape(x_train, (x_train.shape[0], x_train.shape[1], 1))\n",
    "    x_test = np.reshape(x_test, (x_test.shape[0], x_test.shape[1], 1))\n",
    "    # 모델 구성하기\n",
    "    model = Sequential()\n",
    "    model.add(LSTM(32, input_shape=(None, 1)))\n",
    "    model.add(Dropout(0.3))\n",
    "    model.add(Dense(1))\n",
    "    \n",
    "    # 모델 학습과정 설정하기\n",
    "    model.compile(loss='mean_squared_error', optimizer='rmsprop', metrics=['accuracy'])\n",
    "    hist = model.fit(x_train, y_train, epochs=10, batch_size=32)\n",
    "    data_model.append(hist)"
   ]
  },
  {
   "cell_type": "code",
   "execution_count": 5,
   "metadata": {},
   "outputs": [],
   "source": [
    "data1.columns\n",
    "del data1[' 날짜 ']\n",
    "del data1[' 역번호 ']\n",
    "del data1[' 역명 ']\n",
    "del data1[' 구분 ']"
   ]
  },
  {
   "cell_type": "code",
   "execution_count": 6,
   "metadata": {},
   "outputs": [
    {
     "data": {
      "text/plain": [
       "Index(['Unnamed: 0', ' 05~06 ', ' 06~07 ', ' 07~08 ', ' 08~09 ', ' 09~10 ',\n",
       "       ' 10~11 ', ' 11~12 ', ' 12~13 ', ' 13~14 ', ' 14~15 ', ' 15~16 ',\n",
       "       ' 16~17 ', ' 17~18 ', ' 18~19 ', ' 19~20 ', ' 20~21 ', ' 21~22 ',\n",
       "       ' 22~23 ', ' 23~24 ', ' 24~ '],\n",
       "      dtype='object')"
      ]
     },
     "execution_count": 6,
     "metadata": {},
     "output_type": "execute_result"
    }
   ],
   "source": [
    "data1.columns"
   ]
  },
  {
   "cell_type": "code",
   "execution_count": 14,
   "metadata": {},
   "outputs": [],
   "source": [
    "p = data_model[3].model.predict(x_test)"
   ]
  },
  {
   "cell_type": "code",
   "execution_count": 15,
   "metadata": {},
   "outputs": [
    {
     "data": {
      "image/png": "[encoded data removed]",
      "text/plain": [
       "<Figure size 432x288 with 1 Axes>"
      ]
     },
     "metadata": {
      "needs_background": "light"
     },
     "output_type": "display_data"
    }
   ],
   "source": [
    "# p = model.predict(x_test)\n",
    "\n",
    "\n",
    "# In[75]:\n",
    "\n",
    "\n",
    "import matplotlib.pyplot as plt\n",
    "\n",
    "plt.plot(y_test)\n",
    "plt.plot(p)\n",
    "plt.legend(['testY', 'p'], loc='upper right')\n",
    "plt.show()"
   ]
  },
  {
   "cell_type": "code",
   "execution_count": null,
   "metadata": {},
   "outputs": [],
   "source": []
  }
 ],
 "metadata": {
  "kernelspec": {
   "display_name": "me",
   "language": "python",
   "name": "me"
  },
  "language_info": {
   "codemirror_mode": {
    "name": "ipython",
    "version": 3
   },
   "file_extension": ".py",
   "mimetype": "text/x-python",
   "name": "python",
   "nbconvert_exporter": "python",
   "pygments_lexer": "ipython3",
   "version": "3.6.6"
  }
 },
 "nbformat": 4,
 "nbformat_minor": 2
}
